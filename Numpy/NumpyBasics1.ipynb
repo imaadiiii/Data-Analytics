{
  "cells": [
    {
      "cell_type": "code",
      "execution_count": 1,
      "id": "bb5f01f5-4f36-4e90-a4f1-24b7d3889725",
      "metadata": {
        "id": "bb5f01f5-4f36-4e90-a4f1-24b7d3889725"
      },
      "outputs": [],
      "source": [
        "import numpy as np"
      ]
    },
    {
      "cell_type": "code",
      "execution_count": 2,
      "id": "f634285d-a871-49b9-b766-76d57a6f378a",
      "metadata": {
        "id": "f634285d-a871-49b9-b766-76d57a6f378a"
      },
      "outputs": [],
      "source": [
        "l = [1,2,3,4]"
      ]
    },
    {
      "cell_type": "code",
      "execution_count": 3,
      "id": "6857265b-0124-4fec-aee0-74c0b0c105f7",
      "metadata": {
        "id": "6857265b-0124-4fec-aee0-74c0b0c105f7"
      },
      "outputs": [],
      "source": [
        "ar = np.array(l) #list converted to array"
      ]
    },
    {
      "cell_type": "code",
      "execution_count": 4,
      "id": "7402cc20-1cc2-4433-9fef-ed47f71e85b0",
      "metadata": {
        "id": "7402cc20-1cc2-4433-9fef-ed47f71e85b0",
        "outputId": "ce7e4e30-6c74-4334-de5c-efef9056e8f9",
        "colab": {
          "base_uri": "https://localhost:8080/"
        }
      },
      "outputs": [
        {
          "output_type": "execute_result",
          "data": {
            "text/plain": [
              "array([1, 2, 3, 4])"
            ]
          },
          "metadata": {},
          "execution_count": 4
        }
      ],
      "source": [
        "ar #1 Dim"
      ]
    },
    {
      "cell_type": "code",
      "execution_count": 5,
      "id": "18a6c69f-24e3-4614-88c3-5c5bfe62bbfc",
      "metadata": {
        "id": "18a6c69f-24e3-4614-88c3-5c5bfe62bbfc",
        "outputId": "fa5e699e-f2e3-435f-9344-47841a3037c3",
        "colab": {
          "base_uri": "https://localhost:8080/"
        }
      },
      "outputs": [
        {
          "output_type": "execute_result",
          "data": {
            "text/plain": [
              "numpy.ndarray"
            ]
          },
          "metadata": {},
          "execution_count": 5
        }
      ],
      "source": [
        "type(ar)"
      ]
    },
    {
      "cell_type": "code",
      "execution_count": 9,
      "id": "0b30a3c2-efd8-4f59-bc12-88eb44dee98e",
      "metadata": {
        "id": "0b30a3c2-efd8-4f59-bc12-88eb44dee98e",
        "outputId": "c88a89ee-9755-4756-803a-bc4005debafb",
        "colab": {
          "base_uri": "https://localhost:8080/"
        }
      },
      "outputs": [
        {
          "output_type": "execute_result",
          "data": {
            "text/plain": [
              "array([[1, 2],\n",
              "       [3, 4]])"
            ]
          },
          "metadata": {},
          "execution_count": 9
        }
      ],
      "source": [
        "np.array([[1,2] ,[3,4]]) #2 Dim"
      ]
    },
    {
      "cell_type": "code",
      "execution_count": 10,
      "id": "79e702b8-dbc6-4548-80d0-734c8579de9e",
      "metadata": {
        "id": "79e702b8-dbc6-4548-80d0-734c8579de9e",
        "outputId": "00689c47-6013-4005-f870-a25b8ace2830",
        "colab": {
          "base_uri": "https://localhost:8080/"
        }
      },
      "outputs": [
        {
          "output_type": "execute_result",
          "data": {
            "text/plain": [
              "array([1, 2, 3, 4])"
            ]
          },
          "metadata": {},
          "execution_count": 10
        }
      ],
      "source": [
        "np.asarray(l)"
      ]
    },
    {
      "cell_type": "code",
      "execution_count": 11,
      "id": "3915cb9b-f264-4495-a9c4-c25d18f64c60",
      "metadata": {
        "id": "3915cb9b-f264-4495-a9c4-c25d18f64c60"
      },
      "outputs": [],
      "source": [
        "a= [2,3,4]"
      ]
    },
    {
      "cell_type": "code",
      "execution_count": 12,
      "id": "31b88237-5e24-4154-9c64-916c0a9fd6c0",
      "metadata": {
        "id": "31b88237-5e24-4154-9c64-916c0a9fd6c0",
        "outputId": "43efe318-4484-43c3-f948-37dc56d1e327",
        "colab": {
          "base_uri": "https://localhost:8080/"
        }
      },
      "outputs": [
        {
          "output_type": "execute_result",
          "data": {
            "text/plain": [
              "array([2, 3, 4])"
            ]
          },
          "metadata": {},
          "execution_count": 12
        }
      ],
      "source": [
        "np.asanyarray(a)"
      ]
    },
    {
      "cell_type": "code",
      "execution_count": 13,
      "id": "b6cddc4f-d960-4925-a553-623b0a8ff541",
      "metadata": {
        "id": "b6cddc4f-d960-4925-a553-623b0a8ff541"
      },
      "outputs": [],
      "source": [
        "b = np.matrix(l)#matrix is subset of array"
      ]
    },
    {
      "cell_type": "code",
      "execution_count": 14,
      "id": "7c9464fb-06a8-4c16-aebe-761f96979974",
      "metadata": {
        "id": "7c9464fb-06a8-4c16-aebe-761f96979974",
        "outputId": "47f62870-0004-444d-a708-bc4f1b39cff5",
        "colab": {
          "base_uri": "https://localhost:8080/"
        }
      },
      "outputs": [
        {
          "output_type": "execute_result",
          "data": {
            "text/plain": [
              "matrix([[1, 2, 3, 4]])"
            ]
          },
          "metadata": {},
          "execution_count": 14
        }
      ],
      "source": [
        "b"
      ]
    },
    {
      "cell_type": "code",
      "execution_count": 15,
      "id": "51cedef8-ff07-48cd-a1eb-35ac18f991c7",
      "metadata": {
        "id": "51cedef8-ff07-48cd-a1eb-35ac18f991c7",
        "outputId": "b790fcf9-dd07-4a25-b13b-386235a8d482",
        "colab": {
          "base_uri": "https://localhost:8080/"
        }
      },
      "outputs": [
        {
          "output_type": "execute_result",
          "data": {
            "text/plain": [
              "matrix([[1, 2, 3, 4]])"
            ]
          },
          "metadata": {},
          "execution_count": 15
        }
      ],
      "source": [
        "np.asanyarray(b)#not be converted in array"
      ]
    },
    {
      "cell_type": "code",
      "execution_count": 16,
      "id": "ad27ec1e-c010-4bb8-a278-6125a81fb91c",
      "metadata": {
        "id": "ad27ec1e-c010-4bb8-a278-6125a81fb91c"
      },
      "outputs": [],
      "source": [
        "a = np.array(l)"
      ]
    },
    {
      "cell_type": "code",
      "execution_count": 17,
      "id": "3db65dc5-fa99-4f0a-89d7-1f6eaf775b05",
      "metadata": {
        "id": "3db65dc5-fa99-4f0a-89d7-1f6eaf775b05",
        "outputId": "250d4084-9ced-4bbe-f93a-c24c53526dbc",
        "colab": {
          "base_uri": "https://localhost:8080/"
        }
      },
      "outputs": [
        {
          "output_type": "execute_result",
          "data": {
            "text/plain": [
              "array([1, 2, 3, 4])"
            ]
          },
          "metadata": {},
          "execution_count": 17
        }
      ],
      "source": [
        "a\n"
      ]
    },
    {
      "cell_type": "code",
      "execution_count": 18,
      "id": "ff3d2a1d-b052-4db3-99d6-a3501a75d027",
      "metadata": {
        "id": "ff3d2a1d-b052-4db3-99d6-a3501a75d027"
      },
      "outputs": [],
      "source": [
        "c = a"
      ]
    },
    {
      "cell_type": "code",
      "execution_count": 19,
      "id": "642648bb-33b0-4c5d-a0bc-b1784a6a5771",
      "metadata": {
        "id": "642648bb-33b0-4c5d-a0bc-b1784a6a5771",
        "outputId": "3e9fdb21-38e8-49bd-b6ef-4b846cd9b8e0",
        "colab": {
          "base_uri": "https://localhost:8080/"
        }
      },
      "outputs": [
        {
          "output_type": "execute_result",
          "data": {
            "text/plain": [
              "array([1, 2, 3, 4])"
            ]
          },
          "metadata": {},
          "execution_count": 19
        }
      ],
      "source": [
        "c"
      ]
    },
    {
      "cell_type": "code",
      "execution_count": 20,
      "id": "2dee9b26-17af-4401-bf74-a48888d973c8",
      "metadata": {
        "id": "2dee9b26-17af-4401-bf74-a48888d973c8",
        "outputId": "9d5aa1f8-4095-4777-dcb6-6002faf92c92",
        "colab": {
          "base_uri": "https://localhost:8080/"
        }
      },
      "outputs": [
        {
          "output_type": "execute_result",
          "data": {
            "text/plain": [
              "array([1, 2, 3, 4])"
            ]
          },
          "metadata": {},
          "execution_count": 20
        }
      ],
      "source": [
        "a"
      ]
    },
    {
      "cell_type": "code",
      "execution_count": 21,
      "id": "dd679803-09e1-453a-b908-590fe870373a",
      "metadata": {
        "id": "dd679803-09e1-453a-b908-590fe870373a"
      },
      "outputs": [],
      "source": [
        "c[0] = 100"
      ]
    },
    {
      "cell_type": "code",
      "execution_count": 22,
      "id": "d0cd8ae4-1236-44d5-8b46-2adbecfaa10e",
      "metadata": {
        "id": "d0cd8ae4-1236-44d5-8b46-2adbecfaa10e",
        "outputId": "d87c1026-142f-4dba-e92b-83f6efc9492d",
        "colab": {
          "base_uri": "https://localhost:8080/"
        }
      },
      "outputs": [
        {
          "output_type": "execute_result",
          "data": {
            "text/plain": [
              "array([100,   2,   3,   4])"
            ]
          },
          "metadata": {},
          "execution_count": 22
        }
      ],
      "source": [
        "c"
      ]
    },
    {
      "cell_type": "code",
      "execution_count": null,
      "id": "97a614a1-8294-4fdc-b987-11f7da36d097",
      "metadata": {
        "id": "97a614a1-8294-4fdc-b987-11f7da36d097",
        "outputId": "6cf0a946-50b0-4942-b93d-8537fb29b997"
      },
      "outputs": [
        {
          "data": {
            "text/plain": [
              "array([100,   2,   3,   4])"
            ]
          },
          "execution_count": 23,
          "metadata": {},
          "output_type": "execute_result"
        }
      ],
      "source": [
        "a#c=a means pointing same variable so if any change in one results in change for both called shallow copy"
      ]
    },
    {
      "cell_type": "code",
      "execution_count": 23,
      "id": "6017d819-96e2-4627-aa03-92899e0683d1",
      "metadata": {
        "id": "6017d819-96e2-4627-aa03-92899e0683d1"
      },
      "outputs": [],
      "source": [
        "d = np.copy(a)#copying in new location called decopy"
      ]
    },
    {
      "cell_type": "code",
      "execution_count": 24,
      "id": "a13b8fe3-a407-416d-841f-713485253d3a",
      "metadata": {
        "id": "a13b8fe3-a407-416d-841f-713485253d3a",
        "outputId": "7edaf0c9-6465-468e-a161-bda1ac75543b",
        "colab": {
          "base_uri": "https://localhost:8080/"
        }
      },
      "outputs": [
        {
          "output_type": "execute_result",
          "data": {
            "text/plain": [
              "array([100,   2,   3,   4])"
            ]
          },
          "metadata": {},
          "execution_count": 24
        }
      ],
      "source": [
        "d"
      ]
    },
    {
      "cell_type": "code",
      "execution_count": 25,
      "id": "74102a9e-8530-4897-a8c4-7a71920d90c6",
      "metadata": {
        "id": "74102a9e-8530-4897-a8c4-7a71920d90c6",
        "outputId": "d6a8e8ad-a81c-48d2-991e-5c6487420fdf",
        "colab": {
          "base_uri": "https://localhost:8080/"
        }
      },
      "outputs": [
        {
          "output_type": "execute_result",
          "data": {
            "text/plain": [
              "array([100,   2,   3,   4])"
            ]
          },
          "metadata": {},
          "execution_count": 25
        }
      ],
      "source": [
        "a"
      ]
    },
    {
      "cell_type": "code",
      "execution_count": 26,
      "id": "a38ddfd1-82f7-4b34-94aa-99aa36206e4e",
      "metadata": {
        "id": "a38ddfd1-82f7-4b34-94aa-99aa36206e4e"
      },
      "outputs": [],
      "source": [
        "a[1] = 400"
      ]
    },
    {
      "cell_type": "code",
      "execution_count": 27,
      "id": "7d685d0f-ee2f-4e31-9380-401958edf2cd",
      "metadata": {
        "id": "7d685d0f-ee2f-4e31-9380-401958edf2cd",
        "outputId": "197f0b7d-d46b-4481-bfde-7270417bde8e",
        "colab": {
          "base_uri": "https://localhost:8080/"
        }
      },
      "outputs": [
        {
          "output_type": "execute_result",
          "data": {
            "text/plain": [
              "array([100, 400,   3,   4])"
            ]
          },
          "metadata": {},
          "execution_count": 27
        }
      ],
      "source": [
        "a"
      ]
    },
    {
      "cell_type": "code",
      "execution_count": 28,
      "id": "1ac4a42b-0d23-4406-ab20-fd96f2851abe",
      "metadata": {
        "id": "1ac4a42b-0d23-4406-ab20-fd96f2851abe",
        "outputId": "7e74b295-0d6a-487a-ce79-55cd02772831",
        "colab": {
          "base_uri": "https://localhost:8080/"
        }
      },
      "outputs": [
        {
          "output_type": "execute_result",
          "data": {
            "text/plain": [
              "array([100,   2,   3,   4])"
            ]
          },
          "metadata": {},
          "execution_count": 28
        }
      ],
      "source": [
        "d"
      ]
    },
    {
      "cell_type": "code",
      "execution_count": 29,
      "id": "ecb07af1-ae2b-4e17-85d0-11260b35f4c1",
      "metadata": {
        "id": "ecb07af1-ae2b-4e17-85d0-11260b35f4c1",
        "outputId": "4dfc50c9-4ba4-4b91-da2c-4d86cfcf0a3c",
        "colab": {
          "base_uri": "https://localhost:8080/"
        }
      },
      "outputs": [
        {
          "output_type": "execute_result",
          "data": {
            "text/plain": [
              "array([[ True, False, False],\n",
              "       [False,  True, False],\n",
              "       [False, False,  True]])"
            ]
          },
          "metadata": {},
          "execution_count": 29
        }
      ],
      "source": [
        "np.fromfunction(lambda i, j : i==j , (3,3))#means 3*3 matrix and 1=1, 2=2,3=3 according to this matrix is formed"
      ]
    },
    {
      "cell_type": "code",
      "execution_count": 30,
      "id": "3ddba112-515e-406e-bb4a-30630a81e8a9",
      "metadata": {
        "id": "3ddba112-515e-406e-bb4a-30630a81e8a9",
        "outputId": "1bc9c91c-56b4-416a-c3e1-2e34c9c93100",
        "colab": {
          "base_uri": "https://localhost:8080/"
        }
      },
      "outputs": [
        {
          "output_type": "execute_result",
          "data": {
            "text/plain": [
              "array([[0., 0., 0.],\n",
              "       [0., 1., 2.],\n",
              "       [0., 2., 4.]])"
            ]
          },
          "metadata": {},
          "execution_count": 30
        }
      ],
      "source": [
        "np.fromfunction(lambda i, j : i*j , (3,3))#multiplying row*column"
      ]
    },
    {
      "cell_type": "code",
      "execution_count": 31,
      "id": "f7920ace-5c90-45a6-9e84-0de6c0c2fee8",
      "metadata": {
        "id": "f7920ace-5c90-45a6-9e84-0de6c0c2fee8"
      },
      "outputs": [],
      "source": [
        "iterable = (i*i for i in range(5))"
      ]
    },
    {
      "cell_type": "code",
      "execution_count": 32,
      "id": "2625a660-2f8d-4620-8e3c-59dc58137077",
      "metadata": {
        "id": "2625a660-2f8d-4620-8e3c-59dc58137077",
        "outputId": "46e0a915-bdd2-415c-a587-6d083fdc0bc3",
        "colab": {
          "base_uri": "https://localhost:8080/"
        }
      },
      "outputs": [
        {
          "output_type": "execute_result",
          "data": {
            "text/plain": [
              "array([ 0.,  1.,  4.,  9., 16.])"
            ]
          },
          "metadata": {},
          "execution_count": 32
        }
      ],
      "source": [
        "np.fromiter(iterable,float)#fromiter also make array"
      ]
    },
    {
      "cell_type": "code",
      "execution_count": 33,
      "id": "c2478390-df95-48b1-a255-9fdc9a65b24b",
      "metadata": {
        "id": "c2478390-df95-48b1-a255-9fdc9a65b24b",
        "outputId": "1215805a-2745-4436-bc81-49233854d145",
        "colab": {
          "base_uri": "https://localhost:8080/"
        }
      },
      "outputs": [
        {
          "output_type": "execute_result",
          "data": {
            "text/plain": [
              "array([234., 234.])"
            ]
          },
          "metadata": {},
          "execution_count": 33
        }
      ],
      "source": [
        "np.fromstring('234 234' , sep= ' ')"
      ]
    },
    {
      "cell_type": "code",
      "execution_count": 34,
      "id": "fbf7e044-35f2-4279-88f1-0c72e4922a72",
      "metadata": {
        "id": "fbf7e044-35f2-4279-88f1-0c72e4922a72",
        "outputId": "e1cabb6b-7c6c-4138-eccf-86eec94a353f",
        "colab": {
          "base_uri": "https://localhost:8080/"
        }
      },
      "outputs": [
        {
          "output_type": "execute_result",
          "data": {
            "text/plain": [
              "array([4., 5.])"
            ]
          },
          "metadata": {},
          "execution_count": 34
        }
      ],
      "source": [
        "np.fromstring('4,5' , sep= ',')"
      ]
    },
    {
      "cell_type": "code",
      "execution_count": 35,
      "id": "b99a8507-2782-4bfd-9bd2-24720366d9eb",
      "metadata": {
        "id": "b99a8507-2782-4bfd-9bd2-24720366d9eb"
      },
      "outputs": [],
      "source": [
        "#Numpy - Data Types."
      ]
    },
    {
      "cell_type": "code",
      "execution_count": 36,
      "id": "2413012c-1feb-49fd-88d5-ba14dd5fab8d",
      "metadata": {
        "id": "2413012c-1feb-49fd-88d5-ba14dd5fab8d"
      },
      "outputs": [],
      "source": [
        "l = [2,3,4,5,6]"
      ]
    },
    {
      "cell_type": "code",
      "execution_count": 37,
      "id": "bf598728-6398-4991-baa6-18a0b34b48f6",
      "metadata": {
        "id": "bf598728-6398-4991-baa6-18a0b34b48f6"
      },
      "outputs": [],
      "source": [
        "ar = np.array(l)"
      ]
    },
    {
      "cell_type": "code",
      "execution_count": 38,
      "id": "57fe1427-583e-48ca-adc8-c8beb5641931",
      "metadata": {
        "id": "57fe1427-583e-48ca-adc8-c8beb5641931",
        "outputId": "83ee2f1e-2b55-4991-effd-880b7c328df8",
        "colab": {
          "base_uri": "https://localhost:8080/"
        }
      },
      "outputs": [
        {
          "output_type": "execute_result",
          "data": {
            "text/plain": [
              "array([2, 3, 4, 5, 6])"
            ]
          },
          "metadata": {},
          "execution_count": 38
        }
      ],
      "source": [
        "ar"
      ]
    },
    {
      "cell_type": "code",
      "execution_count": 39,
      "id": "aa9b5aa2-6c7a-4805-9130-b75a6456991c",
      "metadata": {
        "id": "aa9b5aa2-6c7a-4805-9130-b75a6456991c",
        "outputId": "0391ae83-53e2-4e0d-d09f-bb2eb82c24d0",
        "colab": {
          "base_uri": "https://localhost:8080/"
        }
      },
      "outputs": [
        {
          "output_type": "execute_result",
          "data": {
            "text/plain": [
              "1"
            ]
          },
          "metadata": {},
          "execution_count": 39
        }
      ],
      "source": [
        "ar.ndim#ndim gives dimension"
      ]
    },
    {
      "cell_type": "code",
      "execution_count": 40,
      "id": "b2e28e1a-69f2-49c2-9390-1d99f735b26d",
      "metadata": {
        "id": "b2e28e1a-69f2-49c2-9390-1d99f735b26d"
      },
      "outputs": [],
      "source": [
        "ar2 = np.array([[1,2,3,4] , [2,3,4,5]])"
      ]
    },
    {
      "cell_type": "code",
      "execution_count": 41,
      "id": "546a23ff-27a7-4cb5-bef8-c431d8505e6d",
      "metadata": {
        "id": "546a23ff-27a7-4cb5-bef8-c431d8505e6d",
        "outputId": "5b181aa9-bcce-4c3f-826c-523ec5547f1e",
        "colab": {
          "base_uri": "https://localhost:8080/"
        }
      },
      "outputs": [
        {
          "output_type": "execute_result",
          "data": {
            "text/plain": [
              "array([[1, 2, 3, 4],\n",
              "       [2, 3, 4, 5]])"
            ]
          },
          "metadata": {},
          "execution_count": 41
        }
      ],
      "source": [
        "ar2"
      ]
    },
    {
      "cell_type": "code",
      "execution_count": 42,
      "id": "a69d96c2-7345-483e-9063-127bbdab0a37",
      "metadata": {
        "id": "a69d96c2-7345-483e-9063-127bbdab0a37",
        "outputId": "1661c728-6a21-4086-d5ae-914c5f758816",
        "colab": {
          "base_uri": "https://localhost:8080/"
        }
      },
      "outputs": [
        {
          "output_type": "execute_result",
          "data": {
            "text/plain": [
              "2"
            ]
          },
          "metadata": {},
          "execution_count": 42
        }
      ],
      "source": [
        "ar2.ndim"
      ]
    },
    {
      "cell_type": "code",
      "execution_count": 43,
      "id": "fda20167-4f95-42f9-8846-8c2f0726287c",
      "metadata": {
        "id": "fda20167-4f95-42f9-8846-8c2f0726287c",
        "outputId": "2d718920-e00f-4b7d-f107-2798d95cbae3",
        "colab": {
          "base_uri": "https://localhost:8080/"
        }
      },
      "outputs": [
        {
          "output_type": "execute_result",
          "data": {
            "text/plain": [
              "5"
            ]
          },
          "metadata": {},
          "execution_count": 43
        }
      ],
      "source": [
        "ar.size"
      ]
    },
    {
      "cell_type": "code",
      "execution_count": 44,
      "id": "fd802008-0428-48b2-b3b4-bff11f059298",
      "metadata": {
        "id": "fd802008-0428-48b2-b3b4-bff11f059298",
        "outputId": "8e369964-8d37-4969-8c8e-5c3646829c2a",
        "colab": {
          "base_uri": "https://localhost:8080/"
        }
      },
      "outputs": [
        {
          "output_type": "execute_result",
          "data": {
            "text/plain": [
              "8"
            ]
          },
          "metadata": {},
          "execution_count": 44
        }
      ],
      "source": [
        "ar2.size"
      ]
    },
    {
      "cell_type": "code",
      "execution_count": 45,
      "id": "04aae56c-ed8c-4538-85c8-d8ecf2f5d940",
      "metadata": {
        "id": "04aae56c-ed8c-4538-85c8-d8ecf2f5d940",
        "outputId": "5cfa6ac6-be42-46fb-9339-d69b690a8c32",
        "colab": {
          "base_uri": "https://localhost:8080/"
        }
      },
      "outputs": [
        {
          "output_type": "execute_result",
          "data": {
            "text/plain": [
              "array([2, 3, 4, 5, 6])"
            ]
          },
          "metadata": {},
          "execution_count": 45
        }
      ],
      "source": [
        "ar"
      ]
    },
    {
      "cell_type": "code",
      "execution_count": 46,
      "id": "aebe1f2a-f153-4d9d-b09e-04f41ecbf987",
      "metadata": {
        "id": "aebe1f2a-f153-4d9d-b09e-04f41ecbf987",
        "outputId": "6aa9bee5-2d04-4d65-ad5e-4e7556a78e94",
        "colab": {
          "base_uri": "https://localhost:8080/"
        }
      },
      "outputs": [
        {
          "output_type": "execute_result",
          "data": {
            "text/plain": [
              "array([[1, 2, 3, 4],\n",
              "       [2, 3, 4, 5]])"
            ]
          },
          "metadata": {},
          "execution_count": 46
        }
      ],
      "source": [
        "ar2"
      ]
    },
    {
      "cell_type": "code",
      "execution_count": 47,
      "id": "6c9e6eb4-7044-4c70-9847-c7de69c71881",
      "metadata": {
        "id": "6c9e6eb4-7044-4c70-9847-c7de69c71881",
        "outputId": "26898a37-cf37-4169-a1de-bad283bc5f7c",
        "colab": {
          "base_uri": "https://localhost:8080/"
        }
      },
      "outputs": [
        {
          "output_type": "execute_result",
          "data": {
            "text/plain": [
              "(5,)"
            ]
          },
          "metadata": {},
          "execution_count": 47
        }
      ],
      "source": [
        "ar.shape"
      ]
    },
    {
      "cell_type": "code",
      "execution_count": 48,
      "id": "467ad9d2-e87e-4ba5-8701-2687fad85555",
      "metadata": {
        "id": "467ad9d2-e87e-4ba5-8701-2687fad85555",
        "outputId": "77dedb6d-2334-43de-a8e2-51c5fee5ca00",
        "colab": {
          "base_uri": "https://localhost:8080/"
        }
      },
      "outputs": [
        {
          "output_type": "execute_result",
          "data": {
            "text/plain": [
              "(2, 4)"
            ]
          },
          "metadata": {},
          "execution_count": 48
        }
      ],
      "source": [
        "ar2.shape#2row and 4 column"
      ]
    },
    {
      "cell_type": "code",
      "execution_count": 49,
      "id": "297867d1-f7c6-499b-b504-6efd5a225ebb",
      "metadata": {
        "id": "297867d1-f7c6-499b-b504-6efd5a225ebb",
        "outputId": "9a0e5df7-b36e-4ffe-af6d-0bc7387b5606",
        "colab": {
          "base_uri": "https://localhost:8080/"
        }
      },
      "outputs": [
        {
          "output_type": "execute_result",
          "data": {
            "text/plain": [
              "dtype('int64')"
            ]
          },
          "metadata": {},
          "execution_count": 49
        }
      ],
      "source": [
        "ar.dtype"
      ]
    },
    {
      "cell_type": "code",
      "execution_count": 50,
      "id": "69408639-5c50-42c1-b860-1bd7d07ad121",
      "metadata": {
        "id": "69408639-5c50-42c1-b860-1bd7d07ad121",
        "outputId": "9f4f919d-11d8-4022-fc5b-09353f76eea5",
        "colab": {
          "base_uri": "https://localhost:8080/"
        }
      },
      "outputs": [
        {
          "output_type": "execute_result",
          "data": {
            "text/plain": [
              "dtype('int64')"
            ]
          },
          "metadata": {},
          "execution_count": 50
        }
      ],
      "source": [
        "ar2.dtype\n"
      ]
    },
    {
      "cell_type": "code",
      "execution_count": 51,
      "id": "f854481b-8b0b-4f23-8485-51996e72962b",
      "metadata": {
        "id": "f854481b-8b0b-4f23-8485-51996e72962b"
      },
      "outputs": [],
      "source": [
        "ar22 = np.array([(1.4,45,45) , (23,45,66)])"
      ]
    },
    {
      "cell_type": "code",
      "execution_count": 52,
      "id": "d7974c33-ad51-4a3f-8b73-566af19d49b7",
      "metadata": {
        "id": "d7974c33-ad51-4a3f-8b73-566af19d49b7",
        "outputId": "4be360c0-c3ee-46a3-f64b-97685e58d3b7",
        "colab": {
          "base_uri": "https://localhost:8080/"
        }
      },
      "outputs": [
        {
          "output_type": "execute_result",
          "data": {
            "text/plain": [
              "array([[ 1.4, 45. , 45. ],\n",
              "       [23. , 45. , 66. ]])"
            ]
          },
          "metadata": {},
          "execution_count": 52
        }
      ],
      "source": [
        "ar22"
      ]
    },
    {
      "cell_type": "code",
      "execution_count": 53,
      "id": "70214aa5-6876-4f7d-85be-5dbd4485c514",
      "metadata": {
        "id": "70214aa5-6876-4f7d-85be-5dbd4485c514",
        "outputId": "6dabee33-600a-4d06-f393-c607a21e48c0",
        "colab": {
          "base_uri": "https://localhost:8080/"
        }
      },
      "outputs": [
        {
          "output_type": "execute_result",
          "data": {
            "text/plain": [
              "dtype('float64')"
            ]
          },
          "metadata": {},
          "execution_count": 53
        }
      ],
      "source": [
        "ar22.dtype"
      ]
    },
    {
      "cell_type": "code",
      "execution_count": 54,
      "id": "374d8f0f-ea8e-42a6-85d8-aa477cfdc3ba",
      "metadata": {
        "id": "374d8f0f-ea8e-42a6-85d8-aa477cfdc3ba",
        "outputId": "b4280778-f1df-46a7-9a2f-1346ee5ff729",
        "colab": {
          "base_uri": "https://localhost:8080/"
        }
      },
      "outputs": [
        {
          "output_type": "execute_result",
          "data": {
            "text/plain": [
              "[0, 1, 2, 3, 4]"
            ]
          },
          "metadata": {},
          "execution_count": 54
        }
      ],
      "source": [
        "list(range(5))"
      ]
    },
    {
      "cell_type": "code",
      "execution_count": 55,
      "id": "e490c758-c9a1-46a6-b23a-e3b54f155fe9",
      "metadata": {
        "id": "e490c758-c9a1-46a6-b23a-e3b54f155fe9",
        "outputId": "b704a501-9549-40b1-fb59-b2c915da7b8b",
        "colab": {
          "base_uri": "https://localhost:8080/",
          "height": 141
        }
      },
      "outputs": [
        {
          "output_type": "error",
          "ename": "TypeError",
          "evalue": "'float' object cannot be interpreted as an integer",
          "traceback": [
            "\u001b[0;31m---------------------------------------------------------------------------\u001b[0m",
            "\u001b[0;31mTypeError\u001b[0m                                 Traceback (most recent call last)",
            "\u001b[0;32m<ipython-input-55-cedc494b172a>\u001b[0m in \u001b[0;36m<cell line: 1>\u001b[0;34m()\u001b[0m\n\u001b[0;32m----> 1\u001b[0;31m \u001b[0mlist\u001b[0m\u001b[0;34m(\u001b[0m\u001b[0mrange\u001b[0m\u001b[0;34m(\u001b[0m\u001b[0;36m0.1\u001b[0m \u001b[0;34m,\u001b[0m\u001b[0;36m5\u001b[0m\u001b[0;34m)\u001b[0m\u001b[0;34m)\u001b[0m\u001b[0;34m\u001b[0m\u001b[0;34m\u001b[0m\u001b[0m\n\u001b[0m",
            "\u001b[0;31mTypeError\u001b[0m: 'float' object cannot be interpreted as an integer"
          ]
        }
      ],
      "source": [
        "list(range(0.1 ,5))#can't produce floating number"
      ]
    },
    {
      "cell_type": "code",
      "execution_count": 56,
      "id": "05eba3b5-9bc9-4e65-a96a-bbd458c50253",
      "metadata": {
        "id": "05eba3b5-9bc9-4e65-a96a-bbd458c50253",
        "outputId": "f19d17b6-a4ce-4b9a-9ec4-5e8b42a6f0e7",
        "colab": {
          "base_uri": "https://localhost:8080/"
        }
      },
      "outputs": [
        {
          "output_type": "execute_result",
          "data": {
            "text/plain": [
              "array([2.3, 3.3, 4.3, 5.3])"
            ]
          },
          "metadata": {},
          "execution_count": 56
        }
      ],
      "source": [
        "np.arange(2.3,5.6)#arange give floating number"
      ]
    },
    {
      "cell_type": "code",
      "execution_count": 57,
      "id": "9920f6ad-81d1-476a-912a-f970e844f12a",
      "metadata": {
        "id": "9920f6ad-81d1-476a-912a-f970e844f12a",
        "outputId": "42092b87-a505-4e53-a2b4-c12dd229caf3",
        "colab": {
          "base_uri": "https://localhost:8080/"
        }
      },
      "outputs": [
        {
          "output_type": "execute_result",
          "data": {
            "text/plain": [
              "[2.3,\n",
              " 2.5999999999999996,\n",
              " 2.8999999999999995,\n",
              " 3.1999999999999993,\n",
              " 3.499999999999999,\n",
              " 3.799999999999999,\n",
              " 4.099999999999999,\n",
              " 4.399999999999999,\n",
              " 4.699999999999998,\n",
              " 4.999999999999998,\n",
              " 5.299999999999998]"
            ]
          },
          "metadata": {},
          "execution_count": 57
        }
      ],
      "source": [
        "list(np.arange(2.3,5.6,.3))"
      ]
    },
    {
      "cell_type": "code",
      "execution_count": 58,
      "id": "69fd7045-e1f9-4832-80f3-5428d4c6f507",
      "metadata": {
        "id": "69fd7045-e1f9-4832-80f3-5428d4c6f507",
        "outputId": "ba95936c-f7e6-4c86-a00e-ee85fb957095",
        "colab": {
          "base_uri": "https://localhost:8080/"
        }
      },
      "outputs": [
        {
          "output_type": "execute_result",
          "data": {
            "text/plain": [
              "array([1.        , 1.44444444, 1.88888889, 2.33333333, 2.77777778,\n",
              "       3.22222222, 3.66666667, 4.11111111, 4.55555556, 5.        ])"
            ]
          },
          "metadata": {},
          "execution_count": 58
        }
      ],
      "source": [
        "np.linspace(1,5,10)#produce 10 data between 1 to 5"
      ]
    },
    {
      "cell_type": "code",
      "execution_count": 59,
      "id": "9840e771-f84c-43a4-bc1e-c948bd5545f7",
      "metadata": {
        "id": "9840e771-f84c-43a4-bc1e-c948bd5545f7",
        "outputId": "a7114b3c-13b7-4075-ceaa-baa93dba2a1d",
        "colab": {
          "base_uri": "https://localhost:8080/"
        }
      },
      "outputs": [
        {
          "output_type": "execute_result",
          "data": {
            "text/plain": [
              "array([0., 0., 0., 0., 0.])"
            ]
          },
          "metadata": {},
          "execution_count": 59
        }
      ],
      "source": [
        "np.zeros(5)#produce only zeros"
      ]
    },
    {
      "cell_type": "code",
      "execution_count": 60,
      "id": "664e6162-ef45-4957-81e5-df238ff4a02d",
      "metadata": {
        "id": "664e6162-ef45-4957-81e5-df238ff4a02d",
        "outputId": "2c8e592b-7710-4d17-ba48-d95852518d99",
        "colab": {
          "base_uri": "https://localhost:8080/"
        }
      },
      "outputs": [
        {
          "output_type": "execute_result",
          "data": {
            "text/plain": [
              "array([[0., 0., 0., 0.],\n",
              "       [0., 0., 0., 0.],\n",
              "       [0., 0., 0., 0.]])"
            ]
          },
          "metadata": {},
          "execution_count": 60
        }
      ],
      "source": [
        "np.zeros((3,4))"
      ]
    },
    {
      "cell_type": "code",
      "execution_count": 61,
      "id": "8bccecd9-e2bd-45df-9a23-282ba8140ea9",
      "metadata": {
        "id": "8bccecd9-e2bd-45df-9a23-282ba8140ea9",
        "outputId": "79b32215-9f09-4481-b916-46cc7445a788",
        "colab": {
          "base_uri": "https://localhost:8080/"
        }
      },
      "outputs": [
        {
          "output_type": "execute_result",
          "data": {
            "text/plain": [
              "array([[[0., 0.],\n",
              "        [0., 0.],\n",
              "        [0., 0.],\n",
              "        [0., 0.]],\n",
              "\n",
              "       [[0., 0.],\n",
              "        [0., 0.],\n",
              "        [0., 0.],\n",
              "        [0., 0.]],\n",
              "\n",
              "       [[0., 0.],\n",
              "        [0., 0.],\n",
              "        [0., 0.],\n",
              "        [0., 0.]]])"
            ]
          },
          "metadata": {},
          "execution_count": 61
        }
      ],
      "source": [
        "np.zeros((3,4,2))"
      ]
    },
    {
      "cell_type": "code",
      "execution_count": 62,
      "id": "8c7ec3ec-414b-4b38-9335-29b4f222bdc7",
      "metadata": {
        "id": "8c7ec3ec-414b-4b38-9335-29b4f222bdc7"
      },
      "outputs": [],
      "source": [
        "ar4 = np.zeros((3,4,2,3))"
      ]
    },
    {
      "cell_type": "code",
      "execution_count": 63,
      "id": "186260c6-2a16-4489-a608-655340fddc73",
      "metadata": {
        "id": "186260c6-2a16-4489-a608-655340fddc73",
        "outputId": "ef35f2d4-5def-4839-ca9c-1330ca1e15a7",
        "colab": {
          "base_uri": "https://localhost:8080/"
        }
      },
      "outputs": [
        {
          "output_type": "execute_result",
          "data": {
            "text/plain": [
              "4"
            ]
          },
          "metadata": {},
          "execution_count": 63
        }
      ],
      "source": [
        "ar4.ndim\n"
      ]
    },
    {
      "cell_type": "code",
      "execution_count": 64,
      "id": "5012dc58-c2bb-4ccf-b454-329c3c1cdcd3",
      "metadata": {
        "id": "5012dc58-c2bb-4ccf-b454-329c3c1cdcd3",
        "outputId": "e9c9c1d5-7eed-48ac-9029-881c859c801d",
        "colab": {
          "base_uri": "https://localhost:8080/"
        }
      },
      "outputs": [
        {
          "output_type": "execute_result",
          "data": {
            "text/plain": [
              "array([[[[0., 0., 0.],\n",
              "         [0., 0., 0.]],\n",
              "\n",
              "        [[0., 0., 0.],\n",
              "         [0., 0., 0.]],\n",
              "\n",
              "        [[0., 0., 0.],\n",
              "         [0., 0., 0.]],\n",
              "\n",
              "        [[0., 0., 0.],\n",
              "         [0., 0., 0.]]],\n",
              "\n",
              "\n",
              "       [[[0., 0., 0.],\n",
              "         [0., 0., 0.]],\n",
              "\n",
              "        [[0., 0., 0.],\n",
              "         [0., 0., 0.]],\n",
              "\n",
              "        [[0., 0., 0.],\n",
              "         [0., 0., 0.]],\n",
              "\n",
              "        [[0., 0., 0.],\n",
              "         [0., 0., 0.]]],\n",
              "\n",
              "\n",
              "       [[[0., 0., 0.],\n",
              "         [0., 0., 0.]],\n",
              "\n",
              "        [[0., 0., 0.],\n",
              "         [0., 0., 0.]],\n",
              "\n",
              "        [[0., 0., 0.],\n",
              "         [0., 0., 0.]],\n",
              "\n",
              "        [[0., 0., 0.],\n",
              "         [0., 0., 0.]]]])"
            ]
          },
          "metadata": {},
          "execution_count": 64
        }
      ],
      "source": [
        "ar4"
      ]
    },
    {
      "cell_type": "code",
      "execution_count": 65,
      "id": "31e0cd68-cf95-4d5e-b9ab-d0ace97bc3c7",
      "metadata": {
        "id": "31e0cd68-cf95-4d5e-b9ab-d0ace97bc3c7",
        "outputId": "7a6895d3-5b21-407f-a036-a7673a57c52c",
        "colab": {
          "base_uri": "https://localhost:8080/"
        }
      },
      "outputs": [
        {
          "output_type": "execute_result",
          "data": {
            "text/plain": [
              "array([1., 1., 1., 1.])"
            ]
          },
          "metadata": {},
          "execution_count": 65
        }
      ],
      "source": [
        "np.ones(4)"
      ]
    },
    {
      "cell_type": "code",
      "execution_count": 66,
      "id": "b741630a-5c7b-48d4-9964-abd706bcb1ac",
      "metadata": {
        "id": "b741630a-5c7b-48d4-9964-abd706bcb1ac",
        "outputId": "5657c826-d67d-4620-fe25-01633f25c1a9",
        "colab": {
          "base_uri": "https://localhost:8080/"
        }
      },
      "outputs": [
        {
          "output_type": "execute_result",
          "data": {
            "text/plain": [
              "array([[1., 1., 1.],\n",
              "       [1., 1., 1.]])"
            ]
          },
          "metadata": {},
          "execution_count": 66
        }
      ],
      "source": [
        "np.ones((2,3))"
      ]
    },
    {
      "cell_type": "code",
      "execution_count": 67,
      "id": "3bce7a48-5228-4d73-af2d-bea6912fe0f7",
      "metadata": {
        "id": "3bce7a48-5228-4d73-af2d-bea6912fe0f7"
      },
      "outputs": [],
      "source": [
        "on =np.ones((2,3,2))"
      ]
    },
    {
      "cell_type": "code",
      "execution_count": 68,
      "id": "2f752447-cfed-44b9-b77e-08c29d2b1ab3",
      "metadata": {
        "id": "2f752447-cfed-44b9-b77e-08c29d2b1ab3",
        "outputId": "013266ec-256d-4a8f-eeb2-8ce504821bde",
        "colab": {
          "base_uri": "https://localhost:8080/"
        }
      },
      "outputs": [
        {
          "output_type": "execute_result",
          "data": {
            "text/plain": [
              "array([[[6., 6.],\n",
              "        [6., 6.],\n",
              "        [6., 6.]],\n",
              "\n",
              "       [[6., 6.],\n",
              "        [6., 6.],\n",
              "        [6., 6.]]])"
            ]
          },
          "metadata": {},
          "execution_count": 68
        }
      ],
      "source": [
        "on + 5\n"
      ]
    },
    {
      "cell_type": "code",
      "execution_count": 69,
      "id": "5a06e023-b4be-42bb-b3b5-fcf134ee14e7",
      "metadata": {
        "id": "5a06e023-b4be-42bb-b3b5-fcf134ee14e7",
        "outputId": "e190b889-fb91-49f0-f820-8b293373eb09",
        "colab": {
          "base_uri": "https://localhost:8080/"
        }
      },
      "outputs": [
        {
          "output_type": "execute_result",
          "data": {
            "text/plain": [
              "array([[[4., 4.],\n",
              "        [4., 4.],\n",
              "        [4., 4.]],\n",
              "\n",
              "       [[4., 4.],\n",
              "        [4., 4.],\n",
              "        [4., 4.]]])"
            ]
          },
          "metadata": {},
          "execution_count": 69
        }
      ],
      "source": [
        "on *4\n"
      ]
    },
    {
      "cell_type": "code",
      "execution_count": 70,
      "id": "9d09ebdb-af46-4b2d-b830-65dade59a6d7",
      "metadata": {
        "id": "9d09ebdb-af46-4b2d-b830-65dade59a6d7",
        "outputId": "32e49418-c8e5-47b1-dc45-a4b25019ce8e",
        "colab": {
          "base_uri": "https://localhost:8080/"
        }
      },
      "outputs": [
        {
          "output_type": "execute_result",
          "data": {
            "text/plain": [
              "array([[0., 0., 0., 1., 1., 1.],\n",
              "       [2., 2., 2., 0., 1., 2.],\n",
              "       [0., 1., 2., 0., 1., 2.]])"
            ]
          },
          "metadata": {},
          "execution_count": 70
        }
      ],
      "source": [
        "np.empty((3,6))"
      ]
    },
    {
      "cell_type": "code",
      "execution_count": 71,
      "id": "d96a21e9-9536-48c2-abb1-8baf5122e228",
      "metadata": {
        "id": "d96a21e9-9536-48c2-abb1-8baf5122e228",
        "outputId": "3dc1c443-0c27-4e1e-9efc-b4af007cbe08",
        "colab": {
          "base_uri": "https://localhost:8080/"
        }
      },
      "outputs": [
        {
          "output_type": "execute_result",
          "data": {
            "text/plain": [
              "array([[1., 0., 0., 0.],\n",
              "       [0., 1., 0., 0.],\n",
              "       [0., 0., 1., 0.],\n",
              "       [0., 0., 0., 1.]])"
            ]
          },
          "metadata": {},
          "execution_count": 71
        }
      ],
      "source": [
        "np.eye(4)"
      ]
    },
    {
      "cell_type": "code",
      "execution_count": 72,
      "id": "e47af07d-7951-4606-a1a3-1f41c0a07199",
      "metadata": {
        "id": "e47af07d-7951-4606-a1a3-1f41c0a07199",
        "outputId": "840c960f-f1e4-4e41-e9d5-c8115a6370fd",
        "colab": {
          "base_uri": "https://localhost:8080/"
        }
      },
      "outputs": [
        {
          "output_type": "execute_result",
          "data": {
            "text/plain": [
              "array([2.        , 2.10526316, 2.21052632, 2.31578947, 2.42105263,\n",
              "       2.52631579, 2.63157895, 2.73684211, 2.84210526, 2.94736842,\n",
              "       3.05263158, 3.15789474, 3.26315789, 3.36842105, 3.47368421,\n",
              "       3.57894737, 3.68421053, 3.78947368, 3.89473684, 4.        ])"
            ]
          },
          "metadata": {},
          "execution_count": 72
        }
      ],
      "source": [
        "np.linspace(2,4 , 20)"
      ]
    },
    {
      "cell_type": "code",
      "execution_count": 73,
      "id": "4d88d65f-7dd4-4873-932b-7b820ec6df59",
      "metadata": {
        "id": "4d88d65f-7dd4-4873-932b-7b820ec6df59",
        "outputId": "efb40fc2-2f43-4c40-b466-36b732a7dea8",
        "colab": {
          "base_uri": "https://localhost:8080/"
        }
      },
      "outputs": [
        {
          "output_type": "execute_result",
          "data": {
            "text/plain": [
              "array([ 4.        ,  5.0396842 ,  6.34960421,  8.        , 10.0793684 ,\n",
              "       12.69920842, 16.        , 20.1587368 , 25.39841683, 32.        ])"
            ]
          },
          "metadata": {},
          "execution_count": 73
        }
      ],
      "source": [
        "np.logspace(2,5 , 10, base = 2)"
      ]
    },
    {
      "cell_type": "code",
      "execution_count": 74,
      "id": "aee8101d-4b08-41f6-89c6-bc73c8c54e3a",
      "metadata": {
        "id": "aee8101d-4b08-41f6-89c6-bc73c8c54e3a"
      },
      "outputs": [],
      "source": [
        "arr = np.random.randn(3,4)#mean =0 and st dev =1"
      ]
    },
    {
      "cell_type": "code",
      "execution_count": 75,
      "id": "6d92bb61-b5ca-4b70-90a8-cdeaf08bbaf1",
      "metadata": {
        "id": "6d92bb61-b5ca-4b70-90a8-cdeaf08bbaf1"
      },
      "outputs": [],
      "source": [
        "import pandas as pd"
      ]
    },
    {
      "cell_type": "code",
      "execution_count": 76,
      "id": "dbcf4067-1e75-4c0a-b422-1e0f795cad3f",
      "metadata": {
        "id": "dbcf4067-1e75-4c0a-b422-1e0f795cad3f",
        "outputId": "61622f1b-81dc-4b83-f50b-7439d2648f06",
        "colab": {
          "base_uri": "https://localhost:8080/",
          "height": 143
        }
      },
      "outputs": [
        {
          "output_type": "execute_result",
          "data": {
            "text/plain": [
              "          0         1         2         3\n",
              "0  1.074395  1.525016  0.636466 -1.211889\n",
              "1 -0.720684  0.510700  0.033380  1.509982\n",
              "2 -0.495583 -0.343999  1.753480  0.175542"
            ],
            "text/html": [
              "\n",
              "  <div id=\"df-90bc7593-9ba9-4ebe-97e8-b73e3baee9d7\" class=\"colab-df-container\">\n",
              "    <div>\n",
              "<style scoped>\n",
              "    .dataframe tbody tr th:only-of-type {\n",
              "        vertical-align: middle;\n",
              "    }\n",
              "\n",
              "    .dataframe tbody tr th {\n",
              "        vertical-align: top;\n",
              "    }\n",
              "\n",
              "    .dataframe thead th {\n",
              "        text-align: right;\n",
              "    }\n",
              "</style>\n",
              "<table border=\"1\" class=\"dataframe\">\n",
              "  <thead>\n",
              "    <tr style=\"text-align: right;\">\n",
              "      <th></th>\n",
              "      <th>0</th>\n",
              "      <th>1</th>\n",
              "      <th>2</th>\n",
              "      <th>3</th>\n",
              "    </tr>\n",
              "  </thead>\n",
              "  <tbody>\n",
              "    <tr>\n",
              "      <th>0</th>\n",
              "      <td>1.074395</td>\n",
              "      <td>1.525016</td>\n",
              "      <td>0.636466</td>\n",
              "      <td>-1.211889</td>\n",
              "    </tr>\n",
              "    <tr>\n",
              "      <th>1</th>\n",
              "      <td>-0.720684</td>\n",
              "      <td>0.510700</td>\n",
              "      <td>0.033380</td>\n",
              "      <td>1.509982</td>\n",
              "    </tr>\n",
              "    <tr>\n",
              "      <th>2</th>\n",
              "      <td>-0.495583</td>\n",
              "      <td>-0.343999</td>\n",
              "      <td>1.753480</td>\n",
              "      <td>0.175542</td>\n",
              "    </tr>\n",
              "  </tbody>\n",
              "</table>\n",
              "</div>\n",
              "    <div class=\"colab-df-buttons\">\n",
              "\n",
              "  <div class=\"colab-df-container\">\n",
              "    <button class=\"colab-df-convert\" onclick=\"convertToInteractive('df-90bc7593-9ba9-4ebe-97e8-b73e3baee9d7')\"\n",
              "            title=\"Convert this dataframe to an interactive table.\"\n",
              "            style=\"display:none;\">\n",
              "\n",
              "  <svg xmlns=\"http://www.w3.org/2000/svg\" height=\"24px\" viewBox=\"0 -960 960 960\">\n",
              "    <path d=\"M120-120v-720h720v720H120Zm60-500h600v-160H180v160Zm220 220h160v-160H400v160Zm0 220h160v-160H400v160ZM180-400h160v-160H180v160Zm440 0h160v-160H620v160ZM180-180h160v-160H180v160Zm440 0h160v-160H620v160Z\"/>\n",
              "  </svg>\n",
              "    </button>\n",
              "\n",
              "  <style>\n",
              "    .colab-df-container {\n",
              "      display:flex;\n",
              "      gap: 12px;\n",
              "    }\n",
              "\n",
              "    .colab-df-convert {\n",
              "      background-color: #E8F0FE;\n",
              "      border: none;\n",
              "      border-radius: 50%;\n",
              "      cursor: pointer;\n",
              "      display: none;\n",
              "      fill: #1967D2;\n",
              "      height: 32px;\n",
              "      padding: 0 0 0 0;\n",
              "      width: 32px;\n",
              "    }\n",
              "\n",
              "    .colab-df-convert:hover {\n",
              "      background-color: #E2EBFA;\n",
              "      box-shadow: 0px 1px 2px rgba(60, 64, 67, 0.3), 0px 1px 3px 1px rgba(60, 64, 67, 0.15);\n",
              "      fill: #174EA6;\n",
              "    }\n",
              "\n",
              "    .colab-df-buttons div {\n",
              "      margin-bottom: 4px;\n",
              "    }\n",
              "\n",
              "    [theme=dark] .colab-df-convert {\n",
              "      background-color: #3B4455;\n",
              "      fill: #D2E3FC;\n",
              "    }\n",
              "\n",
              "    [theme=dark] .colab-df-convert:hover {\n",
              "      background-color: #434B5C;\n",
              "      box-shadow: 0px 1px 3px 1px rgba(0, 0, 0, 0.15);\n",
              "      filter: drop-shadow(0px 1px 2px rgba(0, 0, 0, 0.3));\n",
              "      fill: #FFFFFF;\n",
              "    }\n",
              "  </style>\n",
              "\n",
              "    <script>\n",
              "      const buttonEl =\n",
              "        document.querySelector('#df-90bc7593-9ba9-4ebe-97e8-b73e3baee9d7 button.colab-df-convert');\n",
              "      buttonEl.style.display =\n",
              "        google.colab.kernel.accessAllowed ? 'block' : 'none';\n",
              "\n",
              "      async function convertToInteractive(key) {\n",
              "        const element = document.querySelector('#df-90bc7593-9ba9-4ebe-97e8-b73e3baee9d7');\n",
              "        const dataTable =\n",
              "          await google.colab.kernel.invokeFunction('convertToInteractive',\n",
              "                                                    [key], {});\n",
              "        if (!dataTable) return;\n",
              "\n",
              "        const docLinkHtml = 'Like what you see? Visit the ' +\n",
              "          '<a target=\"_blank\" href=https://colab.research.google.com/notebooks/data_table.ipynb>data table notebook</a>'\n",
              "          + ' to learn more about interactive tables.';\n",
              "        element.innerHTML = '';\n",
              "        dataTable['output_type'] = 'display_data';\n",
              "        await google.colab.output.renderOutput(dataTable, element);\n",
              "        const docLink = document.createElement('div');\n",
              "        docLink.innerHTML = docLinkHtml;\n",
              "        element.appendChild(docLink);\n",
              "      }\n",
              "    </script>\n",
              "  </div>\n",
              "\n",
              "\n",
              "<div id=\"df-b9f7a2d4-26e7-4b83-a877-e3ba3eb4ee62\">\n",
              "  <button class=\"colab-df-quickchart\" onclick=\"quickchart('df-b9f7a2d4-26e7-4b83-a877-e3ba3eb4ee62')\"\n",
              "            title=\"Suggest charts\"\n",
              "            style=\"display:none;\">\n",
              "\n",
              "<svg xmlns=\"http://www.w3.org/2000/svg\" height=\"24px\"viewBox=\"0 0 24 24\"\n",
              "     width=\"24px\">\n",
              "    <g>\n",
              "        <path d=\"M19 3H5c-1.1 0-2 .9-2 2v14c0 1.1.9 2 2 2h14c1.1 0 2-.9 2-2V5c0-1.1-.9-2-2-2zM9 17H7v-7h2v7zm4 0h-2V7h2v10zm4 0h-2v-4h2v4z\"/>\n",
              "    </g>\n",
              "</svg>\n",
              "  </button>\n",
              "\n",
              "<style>\n",
              "  .colab-df-quickchart {\n",
              "      --bg-color: #E8F0FE;\n",
              "      --fill-color: #1967D2;\n",
              "      --hover-bg-color: #E2EBFA;\n",
              "      --hover-fill-color: #174EA6;\n",
              "      --disabled-fill-color: #AAA;\n",
              "      --disabled-bg-color: #DDD;\n",
              "  }\n",
              "\n",
              "  [theme=dark] .colab-df-quickchart {\n",
              "      --bg-color: #3B4455;\n",
              "      --fill-color: #D2E3FC;\n",
              "      --hover-bg-color: #434B5C;\n",
              "      --hover-fill-color: #FFFFFF;\n",
              "      --disabled-bg-color: #3B4455;\n",
              "      --disabled-fill-color: #666;\n",
              "  }\n",
              "\n",
              "  .colab-df-quickchart {\n",
              "    background-color: var(--bg-color);\n",
              "    border: none;\n",
              "    border-radius: 50%;\n",
              "    cursor: pointer;\n",
              "    display: none;\n",
              "    fill: var(--fill-color);\n",
              "    height: 32px;\n",
              "    padding: 0;\n",
              "    width: 32px;\n",
              "  }\n",
              "\n",
              "  .colab-df-quickchart:hover {\n",
              "    background-color: var(--hover-bg-color);\n",
              "    box-shadow: 0 1px 2px rgba(60, 64, 67, 0.3), 0 1px 3px 1px rgba(60, 64, 67, 0.15);\n",
              "    fill: var(--button-hover-fill-color);\n",
              "  }\n",
              "\n",
              "  .colab-df-quickchart-complete:disabled,\n",
              "  .colab-df-quickchart-complete:disabled:hover {\n",
              "    background-color: var(--disabled-bg-color);\n",
              "    fill: var(--disabled-fill-color);\n",
              "    box-shadow: none;\n",
              "  }\n",
              "\n",
              "  .colab-df-spinner {\n",
              "    border: 2px solid var(--fill-color);\n",
              "    border-color: transparent;\n",
              "    border-bottom-color: var(--fill-color);\n",
              "    animation:\n",
              "      spin 1s steps(1) infinite;\n",
              "  }\n",
              "\n",
              "  @keyframes spin {\n",
              "    0% {\n",
              "      border-color: transparent;\n",
              "      border-bottom-color: var(--fill-color);\n",
              "      border-left-color: var(--fill-color);\n",
              "    }\n",
              "    20% {\n",
              "      border-color: transparent;\n",
              "      border-left-color: var(--fill-color);\n",
              "      border-top-color: var(--fill-color);\n",
              "    }\n",
              "    30% {\n",
              "      border-color: transparent;\n",
              "      border-left-color: var(--fill-color);\n",
              "      border-top-color: var(--fill-color);\n",
              "      border-right-color: var(--fill-color);\n",
              "    }\n",
              "    40% {\n",
              "      border-color: transparent;\n",
              "      border-right-color: var(--fill-color);\n",
              "      border-top-color: var(--fill-color);\n",
              "    }\n",
              "    60% {\n",
              "      border-color: transparent;\n",
              "      border-right-color: var(--fill-color);\n",
              "    }\n",
              "    80% {\n",
              "      border-color: transparent;\n",
              "      border-right-color: var(--fill-color);\n",
              "      border-bottom-color: var(--fill-color);\n",
              "    }\n",
              "    90% {\n",
              "      border-color: transparent;\n",
              "      border-bottom-color: var(--fill-color);\n",
              "    }\n",
              "  }\n",
              "</style>\n",
              "\n",
              "  <script>\n",
              "    async function quickchart(key) {\n",
              "      const quickchartButtonEl =\n",
              "        document.querySelector('#' + key + ' button');\n",
              "      quickchartButtonEl.disabled = true;  // To prevent multiple clicks.\n",
              "      quickchartButtonEl.classList.add('colab-df-spinner');\n",
              "      try {\n",
              "        const charts = await google.colab.kernel.invokeFunction(\n",
              "            'suggestCharts', [key], {});\n",
              "      } catch (error) {\n",
              "        console.error('Error during call to suggestCharts:', error);\n",
              "      }\n",
              "      quickchartButtonEl.classList.remove('colab-df-spinner');\n",
              "      quickchartButtonEl.classList.add('colab-df-quickchart-complete');\n",
              "    }\n",
              "    (() => {\n",
              "      let quickchartButtonEl =\n",
              "        document.querySelector('#df-b9f7a2d4-26e7-4b83-a877-e3ba3eb4ee62 button');\n",
              "      quickchartButtonEl.style.display =\n",
              "        google.colab.kernel.accessAllowed ? 'block' : 'none';\n",
              "    })();\n",
              "  </script>\n",
              "</div>\n",
              "\n",
              "    </div>\n",
              "  </div>\n"
            ],
            "application/vnd.google.colaboratory.intrinsic+json": {
              "type": "dataframe",
              "summary": "{\n  \"name\": \"pd\",\n  \"rows\": 3,\n  \"fields\": [\n    {\n      \"column\": 0,\n      \"properties\": {\n        \"dtype\": \"number\",\n        \"std\": 0.9779066978052258,\n        \"min\": -0.7206841207001571,\n        \"max\": 1.0743946555595687,\n        \"num_unique_values\": 3,\n        \"samples\": [\n          1.0743946555595687,\n          -0.7206841207001571,\n          -0.4955833313310862\n        ],\n        \"semantic_type\": \"\",\n        \"description\": \"\"\n      }\n    },\n    {\n      \"column\": 1,\n      \"properties\": {\n        \"dtype\": \"number\",\n        \"std\": 0.9356427868156547,\n        \"min\": -0.3439988782635954,\n        \"max\": 1.5250161233158228,\n        \"num_unique_values\": 3,\n        \"samples\": [\n          1.5250161233158228,\n          0.5106996852834083,\n          -0.3439988782635954\n        ],\n        \"semantic_type\": \"\",\n        \"description\": \"\"\n      }\n    },\n    {\n      \"column\": 2,\n      \"properties\": {\n        \"dtype\": \"number\",\n        \"std\": 0.8727522542169088,\n        \"min\": 0.033380117357809325,\n        \"max\": 1.753480489794702,\n        \"num_unique_values\": 3,\n        \"samples\": [\n          0.6364662530187222,\n          0.033380117357809325,\n          1.753480489794702\n        ],\n        \"semantic_type\": \"\",\n        \"description\": \"\"\n      }\n    },\n    {\n      \"column\": 3,\n      \"properties\": {\n        \"dtype\": \"number\",\n        \"std\": 1.361021374583955,\n        \"min\": -1.2118886923396892,\n        \"max\": 1.5099821170726304,\n        \"num_unique_values\": 3,\n        \"samples\": [\n          -1.2118886923396892,\n          1.5099821170726304,\n          0.1755423511592563\n        ],\n        \"semantic_type\": \"\",\n        \"description\": \"\"\n      }\n    }\n  ]\n}"
            }
          },
          "metadata": {},
          "execution_count": 76
        }
      ],
      "source": [
        "pd.DataFrame(arr)"
      ]
    },
    {
      "cell_type": "code",
      "execution_count": 77,
      "id": "af7b32b9-31fd-4b93-aa83-cb929c8f99c2",
      "metadata": {
        "id": "af7b32b9-31fd-4b93-aa83-cb929c8f99c2",
        "outputId": "ffe72d06-8c59-479a-b464-515a3517e758",
        "colab": {
          "base_uri": "https://localhost:8080/"
        }
      },
      "outputs": [
        {
          "output_type": "execute_result",
          "data": {
            "text/plain": [
              "array([[0.71574952, 0.88651711, 0.2523272 , 0.83446668],\n",
              "       [0.46865276, 0.4999911 , 0.33280436, 0.13122089],\n",
              "       [0.36957948, 0.74120172, 0.40356511, 0.55169195]])"
            ]
          },
          "metadata": {},
          "execution_count": 77
        }
      ],
      "source": [
        "np.random.rand(3,4)"
      ]
    },
    {
      "cell_type": "code",
      "execution_count": 78,
      "id": "941e27b3-b9ef-4224-8bdc-7a9afe4dcc00",
      "metadata": {
        "id": "941e27b3-b9ef-4224-8bdc-7a9afe4dcc00"
      },
      "outputs": [],
      "source": [
        "pd.DataFrame(np.random.randint(1,110 , (300,400))).to_csv('test.csv')"
      ]
    },
    {
      "cell_type": "code",
      "execution_count": 79,
      "id": "dfa812c4-8c83-40ef-9f2e-15a48862a9e8",
      "metadata": {
        "id": "dfa812c4-8c83-40ef-9f2e-15a48862a9e8"
      },
      "outputs": [],
      "source": [
        "arr = np.random.rand(3,4)"
      ]
    },
    {
      "cell_type": "code",
      "execution_count": 81,
      "id": "924094e5-5b37-470e-b24e-1c1d1ca58ebc",
      "metadata": {
        "id": "924094e5-5b37-470e-b24e-1c1d1ca58ebc",
        "outputId": "dce60df9-7ed1-4deb-9a19-4fbcb1ed953e",
        "colab": {
          "base_uri": "https://localhost:8080/"
        }
      },
      "outputs": [
        {
          "output_type": "execute_result",
          "data": {
            "text/plain": [
              "array([[0.90301443, 0.06323951, 0.42041368, 0.49840016],\n",
              "       [0.57739477, 0.27548564, 0.13311615, 0.27614726],\n",
              "       [0.22629663, 0.34112089, 0.32770831, 0.7026114 ]])"
            ]
          },
          "metadata": {},
          "execution_count": 81
        }
      ],
      "source": [
        "arr"
      ]
    },
    {
      "cell_type": "code",
      "execution_count": 82,
      "id": "443822b9-b252-4be8-a3f7-590d97616a29",
      "metadata": {
        "id": "443822b9-b252-4be8-a3f7-590d97616a29",
        "outputId": "7cb0782e-b085-4d47-982b-59c177810a26",
        "colab": {
          "base_uri": "https://localhost:8080/"
        }
      },
      "outputs": [
        {
          "output_type": "execute_result",
          "data": {
            "text/plain": [
              "array([[0.90301443, 0.06323951],\n",
              "       [0.42041368, 0.49840016],\n",
              "       [0.57739477, 0.27548564],\n",
              "       [0.13311615, 0.27614726],\n",
              "       [0.22629663, 0.34112089],\n",
              "       [0.32770831, 0.7026114 ]])"
            ]
          },
          "metadata": {},
          "execution_count": 82
        }
      ],
      "source": [
        "arr.reshape(6,-1)"
      ]
    },
    {
      "cell_type": "code",
      "execution_count": 83,
      "id": "683660de-3236-44a2-acec-28734e94677d",
      "metadata": {
        "id": "683660de-3236-44a2-acec-28734e94677d"
      },
      "outputs": [],
      "source": [
        "arr1 = arr.reshape(6,-134353553435)"
      ]
    },
    {
      "cell_type": "code",
      "execution_count": 84,
      "id": "4d6919b5-9369-4052-be18-895148800908",
      "metadata": {
        "id": "4d6919b5-9369-4052-be18-895148800908",
        "outputId": "55e8e030-de2c-41d4-b0ab-769ea36842e8",
        "colab": {
          "base_uri": "https://localhost:8080/"
        }
      },
      "outputs": [
        {
          "output_type": "execute_result",
          "data": {
            "text/plain": [
              "array([[0.90301443, 0.06323951],\n",
              "       [0.42041368, 0.49840016],\n",
              "       [0.57739477, 0.27548564],\n",
              "       [0.13311615, 0.27614726],\n",
              "       [0.22629663, 0.34112089],\n",
              "       [0.32770831, 0.7026114 ]])"
            ]
          },
          "metadata": {},
          "execution_count": 84
        }
      ],
      "source": [
        "arr1"
      ]
    },
    {
      "cell_type": "code",
      "execution_count": 85,
      "id": "c789b201-52a4-4263-865c-fd088910e367",
      "metadata": {
        "id": "c789b201-52a4-4263-865c-fd088910e367",
        "outputId": "17304c56-46af-46d8-ed70-86a0f6a65459",
        "colab": {
          "base_uri": "https://localhost:8080/"
        }
      },
      "outputs": [
        {
          "output_type": "execute_result",
          "data": {
            "text/plain": [
              "0.4984001631402345"
            ]
          },
          "metadata": {},
          "execution_count": 85
        }
      ],
      "source": [
        "arr1[1][1]"
      ]
    },
    {
      "cell_type": "code",
      "execution_count": 86,
      "id": "071194b0-b65f-4bed-8317-e692032c3316",
      "metadata": {
        "id": "071194b0-b65f-4bed-8317-e692032c3316",
        "outputId": "5cbfdfb9-d57e-48cd-ab45-76033f08af41",
        "colab": {
          "base_uri": "https://localhost:8080/"
        }
      },
      "outputs": [
        {
          "output_type": "execute_result",
          "data": {
            "text/plain": [
              "array([0.27548564, 0.27614726, 0.34112089])"
            ]
          },
          "metadata": {},
          "execution_count": 86
        }
      ],
      "source": [
        "arr1[2:5,1]"
      ]
    },
    {
      "cell_type": "code",
      "execution_count": 87,
      "id": "a56fc792-c12a-409f-85bb-b997ec848ee7",
      "metadata": {
        "id": "a56fc792-c12a-409f-85bb-b997ec848ee7"
      },
      "outputs": [],
      "source": [
        "arr = np.random.randint(1,100 , (5,5))"
      ]
    },
    {
      "cell_type": "code",
      "execution_count": 88,
      "id": "a0f7dd58-668d-48e4-9ba4-4986909abfc0",
      "metadata": {
        "id": "a0f7dd58-668d-48e4-9ba4-4986909abfc0",
        "outputId": "8affbce1-2b18-4b01-ad21-cce253abc181",
        "colab": {
          "base_uri": "https://localhost:8080/"
        }
      },
      "outputs": [
        {
          "output_type": "execute_result",
          "data": {
            "text/plain": [
              "array([[53, 96, 10, 96, 58],\n",
              "       [97, 40, 24, 59, 18],\n",
              "       [ 3, 86, 82,  9, 77],\n",
              "       [67, 73, 31, 92, 73],\n",
              "       [37, 79, 28, 37, 75]])"
            ]
          },
          "metadata": {},
          "execution_count": 88
        }
      ],
      "source": [
        "arr"
      ]
    },
    {
      "cell_type": "code",
      "execution_count": 89,
      "id": "7aad19ec-6d3f-480d-aa0c-df4ca1291733",
      "metadata": {
        "id": "7aad19ec-6d3f-480d-aa0c-df4ca1291733",
        "outputId": "44e9ef99-2395-431b-e465-71f335952930",
        "colab": {
          "base_uri": "https://localhost:8080/"
        }
      },
      "outputs": [
        {
          "output_type": "execute_result",
          "data": {
            "text/plain": [
              "array([53, 96, 96, 58, 97, 59, 86, 82, 77, 67, 73, 92, 73, 79, 75])"
            ]
          },
          "metadata": {},
          "execution_count": 89
        }
      ],
      "source": [
        "arr[arr>50]"
      ]
    },
    {
      "cell_type": "code",
      "execution_count": 90,
      "id": "1b02ca52-b1b3-4fa8-bd93-3717816e7591",
      "metadata": {
        "id": "1b02ca52-b1b3-4fa8-bd93-3717816e7591",
        "outputId": "c7d4fdbe-2984-4004-9829-c0971090f25f",
        "colab": {
          "base_uri": "https://localhost:8080/"
        }
      },
      "outputs": [
        {
          "output_type": "execute_result",
          "data": {
            "text/plain": [
              "array([[53, 96, 10, 96, 58],\n",
              "       [97, 40, 24, 59, 18],\n",
              "       [ 3, 86, 82,  9, 77],\n",
              "       [67, 73, 31, 92, 73],\n",
              "       [37, 79, 28, 37, 75]])"
            ]
          },
          "metadata": {},
          "execution_count": 90
        }
      ],
      "source": [
        "arr"
      ]
    },
    {
      "cell_type": "code",
      "execution_count": 91,
      "id": "041505cb-20f5-447c-b058-0d62f2f472e7",
      "metadata": {
        "id": "041505cb-20f5-447c-b058-0d62f2f472e7",
        "outputId": "b2b81a22-5cc3-4a9f-8a8d-26e5fd4dccee",
        "colab": {
          "base_uri": "https://localhost:8080/"
        }
      },
      "outputs": [
        {
          "output_type": "execute_result",
          "data": {
            "text/plain": [
              "array([[86, 82],\n",
              "       [73, 31]])"
            ]
          },
          "metadata": {},
          "execution_count": 91
        }
      ],
      "source": [
        "arr[2:4 , [1,2]]"
      ]
    },
    {
      "cell_type": "code",
      "execution_count": 92,
      "id": "d3541d0c-c152-4cff-8a3f-a94a14be769a",
      "metadata": {
        "id": "d3541d0c-c152-4cff-8a3f-a94a14be769a"
      },
      "outputs": [],
      "source": [
        "arr[0][0] = 5000"
      ]
    },
    {
      "cell_type": "code",
      "execution_count": 93,
      "id": "655696e2-9f75-4fbc-9dda-79c5a934a1a7",
      "metadata": {
        "id": "655696e2-9f75-4fbc-9dda-79c5a934a1a7",
        "outputId": "606f6bf5-ddb7-4be0-b7ef-cb6297cb3dc7",
        "colab": {
          "base_uri": "https://localhost:8080/"
        }
      },
      "outputs": [
        {
          "output_type": "execute_result",
          "data": {
            "text/plain": [
              "array([[5000,   96,   10,   96,   58],\n",
              "       [  97,   40,   24,   59,   18],\n",
              "       [   3,   86,   82,    9,   77],\n",
              "       [  67,   73,   31,   92,   73],\n",
              "       [  37,   79,   28,   37,   75]])"
            ]
          },
          "metadata": {},
          "execution_count": 93
        }
      ],
      "source": [
        "arr"
      ]
    },
    {
      "cell_type": "code",
      "execution_count": 94,
      "id": "c9b54bc7-a24f-428a-963e-22d7f06de522",
      "metadata": {
        "id": "c9b54bc7-a24f-428a-963e-22d7f06de522"
      },
      "outputs": [],
      "source": [
        "arr1 = np.random.randint(1,3 , (3,3))\n",
        "arr2 = np.random.randint(1,3 , (3,3))"
      ]
    },
    {
      "cell_type": "code",
      "execution_count": 95,
      "id": "9abc3bd0-459c-4d26-be84-786959e4f220",
      "metadata": {
        "id": "9abc3bd0-459c-4d26-be84-786959e4f220",
        "outputId": "fa04f476-5182-4644-bdf0-e70923016dbe",
        "colab": {
          "base_uri": "https://localhost:8080/"
        }
      },
      "outputs": [
        {
          "output_type": "execute_result",
          "data": {
            "text/plain": [
              "array([[2, 1, 1],\n",
              "       [1, 2, 2],\n",
              "       [1, 2, 1]])"
            ]
          },
          "metadata": {},
          "execution_count": 95
        }
      ],
      "source": [
        "arr1"
      ]
    },
    {
      "cell_type": "code",
      "execution_count": 96,
      "id": "42603651-479b-442e-8768-229cb3309e5c",
      "metadata": {
        "id": "42603651-479b-442e-8768-229cb3309e5c",
        "outputId": "994060b3-e45a-4deb-bca9-21256413007d",
        "colab": {
          "base_uri": "https://localhost:8080/"
        }
      },
      "outputs": [
        {
          "output_type": "execute_result",
          "data": {
            "text/plain": [
              "array([[1, 1, 1],\n",
              "       [1, 1, 2],\n",
              "       [2, 2, 1]])"
            ]
          },
          "metadata": {},
          "execution_count": 96
        }
      ],
      "source": [
        "arr2\n"
      ]
    },
    {
      "cell_type": "code",
      "execution_count": 97,
      "id": "b3fc7365-7c4d-42e8-bf94-9ba5b1983cb7",
      "metadata": {
        "id": "b3fc7365-7c4d-42e8-bf94-9ba5b1983cb7",
        "outputId": "f58c088d-5831-435b-a3af-de97a112a084",
        "colab": {
          "base_uri": "https://localhost:8080/"
        }
      },
      "outputs": [
        {
          "output_type": "execute_result",
          "data": {
            "text/plain": [
              "array([[3, 2, 2],\n",
              "       [2, 3, 4],\n",
              "       [3, 4, 2]])"
            ]
          },
          "metadata": {},
          "execution_count": 97
        }
      ],
      "source": [
        "arr1+arr2"
      ]
    },
    {
      "cell_type": "code",
      "execution_count": 98,
      "id": "84f07dc1-0f29-46a9-bdd8-695d7060ebe9",
      "metadata": {
        "id": "84f07dc1-0f29-46a9-bdd8-695d7060ebe9",
        "outputId": "2f2f4e4e-798e-4246-9fd1-d6b16595439d",
        "colab": {
          "base_uri": "https://localhost:8080/"
        }
      },
      "outputs": [
        {
          "output_type": "execute_result",
          "data": {
            "text/plain": [
              "array([[ 1,  0,  0],\n",
              "       [ 0,  1,  0],\n",
              "       [-1,  0,  0]])"
            ]
          },
          "metadata": {},
          "execution_count": 98
        }
      ],
      "source": [
        "arr1-arr2"
      ]
    },
    {
      "cell_type": "code",
      "execution_count": 99,
      "id": "49a34c34-2fcc-45c8-a1c9-6ebe6e993dca",
      "metadata": {
        "id": "49a34c34-2fcc-45c8-a1c9-6ebe6e993dca",
        "outputId": "97cb35e9-cdc3-4c01-b12b-46f2df09eba9",
        "colab": {
          "base_uri": "https://localhost:8080/"
        }
      },
      "outputs": [
        {
          "output_type": "execute_result",
          "data": {
            "text/plain": [
              "array([[2. , 1. , 1. ],\n",
              "       [1. , 2. , 1. ],\n",
              "       [0.5, 1. , 1. ]])"
            ]
          },
          "metadata": {},
          "execution_count": 99
        }
      ],
      "source": [
        "arr1/arr2"
      ]
    },
    {
      "cell_type": "code",
      "execution_count": 102,
      "id": "0ed674d1-a1f3-45f2-bd44-c4e9bb2fd458",
      "metadata": {
        "id": "0ed674d1-a1f3-45f2-bd44-c4e9bb2fd458",
        "outputId": "ebefb714-e6fa-4a6c-e941-fe8faf33ffe9",
        "colab": {
          "base_uri": "https://localhost:8080/"
        }
      },
      "outputs": [
        {
          "output_type": "execute_result",
          "data": {
            "text/plain": [
              "array([[2, 1, 1],\n",
              "       [1, 2, 4],\n",
              "       [2, 4, 1]])"
            ]
          },
          "metadata": {},
          "execution_count": 102
        }
      ],
      "source": [
        "arr1 * arr2"
      ]
    },
    {
      "cell_type": "code",
      "execution_count": 103,
      "id": "e1e9fa53-7a19-4941-9f42-70012fdaf9b5",
      "metadata": {
        "id": "e1e9fa53-7a19-4941-9f42-70012fdaf9b5",
        "outputId": "496c4935-b2ee-44d4-85b3-e4ae793857c3",
        "colab": {
          "base_uri": "https://localhost:8080/"
        }
      },
      "outputs": [
        {
          "output_type": "execute_result",
          "data": {
            "text/plain": [
              "array([[2, 1, 1],\n",
              "       [1, 2, 2],\n",
              "       [1, 2, 1]])"
            ]
          },
          "metadata": {},
          "execution_count": 103
        }
      ],
      "source": [
        "arr1"
      ]
    },
    {
      "cell_type": "code",
      "execution_count": 104,
      "id": "80becb6c-b940-4ff3-bd8d-39d1209905bf",
      "metadata": {
        "id": "80becb6c-b940-4ff3-bd8d-39d1209905bf",
        "outputId": "77171c5e-b492-4c1f-bfa5-fb13cc96d710",
        "colab": {
          "base_uri": "https://localhost:8080/"
        }
      },
      "outputs": [
        {
          "output_type": "execute_result",
          "data": {
            "text/plain": [
              "array([[1, 1, 1],\n",
              "       [1, 1, 2],\n",
              "       [2, 2, 1]])"
            ]
          },
          "metadata": {},
          "execution_count": 104
        }
      ],
      "source": [
        "arr2"
      ]
    },
    {
      "cell_type": "code",
      "execution_count": 105,
      "id": "c6f5a6ab-db3a-4517-836f-86cc61f12c32",
      "metadata": {
        "id": "c6f5a6ab-db3a-4517-836f-86cc61f12c32",
        "outputId": "fa1a1c33-8ff9-43a1-a7d3-e2603ae11b38",
        "colab": {
          "base_uri": "https://localhost:8080/"
        }
      },
      "outputs": [
        {
          "output_type": "execute_result",
          "data": {
            "text/plain": [
              "array([[5, 5, 5],\n",
              "       [7, 7, 7],\n",
              "       [5, 5, 6]])"
            ]
          },
          "metadata": {},
          "execution_count": 105
        }
      ],
      "source": [
        "arr1@arr2#matrix multiplication"
      ]
    },
    {
      "cell_type": "code",
      "execution_count": 106,
      "id": "0187979b-c3aa-4993-9811-cba5a0997765",
      "metadata": {
        "id": "0187979b-c3aa-4993-9811-cba5a0997765",
        "outputId": "243ca9ad-da80-4fba-b26d-b8f680d15de2",
        "colab": {
          "base_uri": "https://localhost:8080/"
        }
      },
      "outputs": [
        {
          "output_type": "stream",
          "name": "stderr",
          "text": [
            "<ipython-input-106-2e1dc0d9289f>:1: RuntimeWarning: divide by zero encountered in divide\n",
            "  arr1/0\n"
          ]
        },
        {
          "output_type": "execute_result",
          "data": {
            "text/plain": [
              "array([[inf, inf, inf],\n",
              "       [inf, inf, inf],\n",
              "       [inf, inf, inf]])"
            ]
          },
          "metadata": {},
          "execution_count": 106
        }
      ],
      "source": [
        "arr1/0"
      ]
    },
    {
      "cell_type": "code",
      "execution_count": 107,
      "id": "8a089e96-7b2d-4bcd-bcb3-e9476a91a8a3",
      "metadata": {
        "id": "8a089e96-7b2d-4bcd-bcb3-e9476a91a8a3",
        "outputId": "93e87c82-cee9-4ff7-ee82-4c92aaba947d",
        "colab": {
          "base_uri": "https://localhost:8080/"
        }
      },
      "outputs": [
        {
          "output_type": "execute_result",
          "data": {
            "text/plain": [
              "array([[102, 101, 101],\n",
              "       [101, 102, 102],\n",
              "       [101, 102, 101]])"
            ]
          },
          "metadata": {},
          "execution_count": 107
        }
      ],
      "source": [
        "arr1 +100"
      ]
    },
    {
      "cell_type": "code",
      "execution_count": 108,
      "id": "d8f20089-ae42-4a3b-be56-d040ad68ad6d",
      "metadata": {
        "id": "d8f20089-ae42-4a3b-be56-d040ad68ad6d",
        "outputId": "bd5d961f-8759-4af8-f301-e43a03c20a0f",
        "colab": {
          "base_uri": "https://localhost:8080/"
        }
      },
      "outputs": [
        {
          "output_type": "execute_result",
          "data": {
            "text/plain": [
              "array([[4, 1, 1],\n",
              "       [1, 4, 4],\n",
              "       [1, 4, 1]])"
            ]
          },
          "metadata": {},
          "execution_count": 108
        }
      ],
      "source": [
        "arr1**2"
      ]
    },
    {
      "cell_type": "code",
      "execution_count": 109,
      "id": "5b535a52-008f-4f43-9682-5607b9380262",
      "metadata": {
        "id": "5b535a52-008f-4f43-9682-5607b9380262"
      },
      "outputs": [],
      "source": [
        "#Numpy – Broadcasting."
      ]
    },
    {
      "cell_type": "code",
      "execution_count": 110,
      "id": "578eed9d-f5fb-4484-8fd3-3496760bbf7e",
      "metadata": {
        "id": "578eed9d-f5fb-4484-8fd3-3496760bbf7e"
      },
      "outputs": [],
      "source": [
        "arr =np.zeros((4,4))"
      ]
    },
    {
      "cell_type": "code",
      "execution_count": 111,
      "id": "74344e7d-dee9-4bb0-a32e-be2d3a87275f",
      "metadata": {
        "id": "74344e7d-dee9-4bb0-a32e-be2d3a87275f",
        "outputId": "6083330d-0972-4a8a-a5cb-3ca74f249ce5",
        "colab": {
          "base_uri": "https://localhost:8080/"
        }
      },
      "outputs": [
        {
          "output_type": "execute_result",
          "data": {
            "text/plain": [
              "array([[0., 0., 0., 0.],\n",
              "       [0., 0., 0., 0.],\n",
              "       [0., 0., 0., 0.],\n",
              "       [0., 0., 0., 0.]])"
            ]
          },
          "metadata": {},
          "execution_count": 111
        }
      ],
      "source": [
        "arr"
      ]
    },
    {
      "cell_type": "code",
      "execution_count": 112,
      "id": "04141898-8d4c-4762-8db5-be03144c425b",
      "metadata": {
        "id": "04141898-8d4c-4762-8db5-be03144c425b"
      },
      "outputs": [],
      "source": [
        "row = np.array([1,2,3,4])"
      ]
    },
    {
      "cell_type": "code",
      "execution_count": 113,
      "id": "79f7cd0d-f475-4b00-9b66-453961437308",
      "metadata": {
        "id": "79f7cd0d-f475-4b00-9b66-453961437308",
        "outputId": "298eb856-1ed9-41b7-e2e8-a05c19811ef9",
        "colab": {
          "base_uri": "https://localhost:8080/"
        }
      },
      "outputs": [
        {
          "output_type": "execute_result",
          "data": {
            "text/plain": [
              "(4,)"
            ]
          },
          "metadata": {},
          "execution_count": 113
        }
      ],
      "source": [
        "row.shape\n",
        "\n"
      ]
    },
    {
      "cell_type": "code",
      "execution_count": 114,
      "id": "d13ca14f-64e6-46b3-9561-9cbf0c1ec17b",
      "metadata": {
        "id": "d13ca14f-64e6-46b3-9561-9cbf0c1ec17b",
        "outputId": "d18925b6-b362-4420-b373-5c25fc3f5537",
        "colab": {
          "base_uri": "https://localhost:8080/"
        }
      },
      "outputs": [
        {
          "output_type": "execute_result",
          "data": {
            "text/plain": [
              "array([[1., 2., 3., 4.],\n",
              "       [1., 2., 3., 4.],\n",
              "       [1., 2., 3., 4.],\n",
              "       [1., 2., 3., 4.]])"
            ]
          },
          "metadata": {},
          "execution_count": 114
        }
      ],
      "source": [
        "arr + row"
      ]
    },
    {
      "cell_type": "code",
      "execution_count": 115,
      "id": "0c4b72e2-64c8-4659-a65a-34544818e145",
      "metadata": {
        "id": "0c4b72e2-64c8-4659-a65a-34544818e145",
        "outputId": "a43c17f4-e291-43f9-93be-ecdd142afdac",
        "colab": {
          "base_uri": "https://localhost:8080/"
        }
      },
      "outputs": [
        {
          "output_type": "execute_result",
          "data": {
            "text/plain": [
              "array([1, 2, 3, 4])"
            ]
          },
          "metadata": {},
          "execution_count": 115
        }
      ],
      "source": [
        "row.T"
      ]
    },
    {
      "cell_type": "code",
      "execution_count": 116,
      "id": "2426c44c-356f-469e-bffc-228861927a38",
      "metadata": {
        "id": "2426c44c-356f-469e-bffc-228861927a38"
      },
      "outputs": [],
      "source": [
        "col = np.array([[1,2,3,4]])"
      ]
    },
    {
      "cell_type": "code",
      "execution_count": 117,
      "id": "9a5521e6-8934-48f9-b1ac-c46a95785b6d",
      "metadata": {
        "id": "9a5521e6-8934-48f9-b1ac-c46a95785b6d",
        "outputId": "4ebb2829-a601-4b53-f839-7ac68f6c74c3",
        "colab": {
          "base_uri": "https://localhost:8080/"
        }
      },
      "outputs": [
        {
          "output_type": "execute_result",
          "data": {
            "text/plain": [
              "array([[1., 1., 1., 1.],\n",
              "       [2., 2., 2., 2.],\n",
              "       [3., 3., 3., 3.],\n",
              "       [4., 4., 4., 4.]])"
            ]
          },
          "metadata": {},
          "execution_count": 117
        }
      ],
      "source": [
        "col.T + arr"
      ]
    },
    {
      "cell_type": "code",
      "execution_count": 118,
      "id": "cda4baa8-72fc-4bb4-9294-eb48cb58c4ba",
      "metadata": {
        "id": "cda4baa8-72fc-4bb4-9294-eb48cb58c4ba",
        "outputId": "5ceb13ea-ebd4-4c9c-d15e-fbc8e005fa3e",
        "colab": {
          "base_uri": "https://localhost:8080/"
        }
      },
      "outputs": [
        {
          "output_type": "execute_result",
          "data": {
            "text/plain": [
              "array([[1, 2, 3, 4]])"
            ]
          },
          "metadata": {},
          "execution_count": 118
        }
      ],
      "source": [
        "col"
      ]
    },
    {
      "cell_type": "code",
      "execution_count": 119,
      "id": "91b60593-5434-4928-a375-72f5eb65a639",
      "metadata": {
        "id": "91b60593-5434-4928-a375-72f5eb65a639",
        "outputId": "a81e4872-2751-4027-dcfe-d9f20091ebc9",
        "colab": {
          "base_uri": "https://localhost:8080/"
        }
      },
      "outputs": [
        {
          "output_type": "execute_result",
          "data": {
            "text/plain": [
              "array([[0., 0., 0., 0.],\n",
              "       [0., 0., 0., 0.],\n",
              "       [0., 0., 0., 0.],\n",
              "       [0., 0., 0., 0.]])"
            ]
          },
          "metadata": {},
          "execution_count": 119
        }
      ],
      "source": [
        "arr"
      ]
    },
    {
      "cell_type": "code",
      "execution_count": 120,
      "id": "e68aec4e-63a2-46fa-b9e8-912183489fc7",
      "metadata": {
        "id": "e68aec4e-63a2-46fa-b9e8-912183489fc7"
      },
      "outputs": [],
      "source": [
        "arr1 = np.random.randint(1,4 , (3,4))"
      ]
    },
    {
      "cell_type": "code",
      "execution_count": 121,
      "id": "8d628304-70c6-4034-bc1c-c64130b9eae6",
      "metadata": {
        "id": "8d628304-70c6-4034-bc1c-c64130b9eae6",
        "outputId": "edd8e320-30b5-4d3c-c4df-c87c1a613ac8",
        "colab": {
          "base_uri": "https://localhost:8080/"
        }
      },
      "outputs": [
        {
          "output_type": "execute_result",
          "data": {
            "text/plain": [
              "array([[3, 2, 1, 2],\n",
              "       [2, 3, 2, 1],\n",
              "       [1, 1, 3, 3]])"
            ]
          },
          "metadata": {},
          "execution_count": 121
        }
      ],
      "source": [
        "arr1"
      ]
    },
    {
      "cell_type": "code",
      "execution_count": 122,
      "id": "0b3dc448-a57f-4e7d-8e8a-e6318a6330d3",
      "metadata": {
        "id": "0b3dc448-a57f-4e7d-8e8a-e6318a6330d3",
        "outputId": "adcc1aff-f755-4bf6-be71-d54f777dbd71",
        "colab": {
          "base_uri": "https://localhost:8080/"
        }
      },
      "outputs": [
        {
          "output_type": "execute_result",
          "data": {
            "text/plain": [
              "array([[1.73205081, 1.41421356, 1.        , 1.41421356],\n",
              "       [1.41421356, 1.73205081, 1.41421356, 1.        ],\n",
              "       [1.        , 1.        , 1.73205081, 1.73205081]])"
            ]
          },
          "metadata": {},
          "execution_count": 122
        }
      ],
      "source": [
        "np.sqrt(arr1)"
      ]
    },
    {
      "cell_type": "code",
      "execution_count": 123,
      "id": "67746c9a-49b1-4446-94e2-0f1c7de8a9fa",
      "metadata": {
        "id": "67746c9a-49b1-4446-94e2-0f1c7de8a9fa",
        "outputId": "0f5efb4f-12fb-4ae0-9d18-7f45afdd3157",
        "colab": {
          "base_uri": "https://localhost:8080/"
        }
      },
      "outputs": [
        {
          "output_type": "execute_result",
          "data": {
            "text/plain": [
              "array([[20.08553692,  7.3890561 ,  2.71828183,  7.3890561 ],\n",
              "       [ 7.3890561 , 20.08553692,  7.3890561 ,  2.71828183],\n",
              "       [ 2.71828183,  2.71828183, 20.08553692, 20.08553692]])"
            ]
          },
          "metadata": {},
          "execution_count": 123
        }
      ],
      "source": [
        "np.exp(arr1)"
      ]
    },
    {
      "cell_type": "code",
      "execution_count": 124,
      "id": "e7023b99-dd77-45ba-b34b-39a0676d7086",
      "metadata": {
        "id": "e7023b99-dd77-45ba-b34b-39a0676d7086",
        "outputId": "58953cfd-b8ac-42a8-e11b-d068d87cf2c4",
        "colab": {
          "base_uri": "https://localhost:8080/"
        }
      },
      "outputs": [
        {
          "output_type": "execute_result",
          "data": {
            "text/plain": [
              "array([[0.47712125, 0.30103   , 0.        , 0.30103   ],\n",
              "       [0.30103   , 0.47712125, 0.30103   , 0.        ],\n",
              "       [0.        , 0.        , 0.47712125, 0.47712125]])"
            ]
          },
          "metadata": {},
          "execution_count": 124
        }
      ],
      "source": [
        "np.log10(arr1)"
      ]
    },
    {
      "cell_type": "code",
      "execution_count": null,
      "id": "0be11bba-e2f5-470a-b262-91a2055d0096",
      "metadata": {
        "id": "0be11bba-e2f5-470a-b262-91a2055d0096"
      },
      "outputs": [],
      "source": []
    }
  ],
  "metadata": {
    "kernelspec": {
      "display_name": "Python 3 (ipykernel)",
      "language": "python",
      "name": "python3"
    },
    "language_info": {
      "codemirror_mode": {
        "name": "ipython",
        "version": 3
      },
      "file_extension": ".py",
      "mimetype": "text/x-python",
      "name": "python",
      "nbconvert_exporter": "python",
      "pygments_lexer": "ipython3",
      "version": "3.10.8"
    },
    "colab": {
      "provenance": []
    }
  },
  "nbformat": 4,
  "nbformat_minor": 5
}