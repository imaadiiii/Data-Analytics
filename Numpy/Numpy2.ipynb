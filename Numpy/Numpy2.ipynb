{
  "cells": [
    {
      "cell_type": "code",
      "execution_count": 1,
      "id": "1890f2f5-6c16-4566-96a3-380acb9259e6",
      "metadata": {
        "id": "1890f2f5-6c16-4566-96a3-380acb9259e6"
      },
      "outputs": [],
      "source": [
        "#Numpy - Array Manipulation."
      ]
    },
    {
      "cell_type": "code",
      "execution_count": 2,
      "id": "dba4df9f-2c20-4ce4-a433-ef64cad090d0",
      "metadata": {
        "id": "dba4df9f-2c20-4ce4-a433-ef64cad090d0"
      },
      "outputs": [],
      "source": [
        "import numpy as np"
      ]
    },
    {
      "cell_type": "code",
      "execution_count": 3,
      "id": "5632259c-dc2a-4f2a-9b61-7f383ea33a1b",
      "metadata": {
        "id": "5632259c-dc2a-4f2a-9b61-7f383ea33a1b"
      },
      "outputs": [],
      "source": [
        "arr = np.random.randint(1,10 , (3,4))"
      ]
    },
    {
      "cell_type": "code",
      "execution_count": 4,
      "id": "eee2bbe4-55eb-41ec-9fad-e56bc005a6b3",
      "metadata": {
        "id": "eee2bbe4-55eb-41ec-9fad-e56bc005a6b3",
        "outputId": "2876f2a1-8277-4c44-e110-18e15c946d83",
        "colab": {
          "base_uri": "https://localhost:8080/"
        }
      },
      "outputs": [
        {
          "output_type": "execute_result",
          "data": {
            "text/plain": [
              "array([[1, 9, 1, 6],\n",
              "       [3, 8, 2, 6],\n",
              "       [4, 3, 4, 3]])"
            ]
          },
          "metadata": {},
          "execution_count": 4
        }
      ],
      "source": [
        "arr"
      ]
    },
    {
      "cell_type": "code",
      "execution_count": 5,
      "id": "d55d33e1-985f-4070-97d2-8eacf70b2ff8",
      "metadata": {
        "id": "d55d33e1-985f-4070-97d2-8eacf70b2ff8",
        "outputId": "8c177490-488c-494f-97e3-c28bb6ec6947",
        "colab": {
          "base_uri": "https://localhost:8080/"
        }
      },
      "outputs": [
        {
          "output_type": "execute_result",
          "data": {
            "text/plain": [
              "array([[1, 9],\n",
              "       [1, 6],\n",
              "       [3, 8],\n",
              "       [2, 6],\n",
              "       [4, 3],\n",
              "       [4, 3]])"
            ]
          },
          "metadata": {},
          "execution_count": 5
        }
      ],
      "source": [
        "arr.reshape(6,2)"
      ]
    },
    {
      "cell_type": "code",
      "execution_count": 6,
      "id": "09cb23cc-8b83-467b-827d-dfbfa8b634c3",
      "metadata": {
        "id": "09cb23cc-8b83-467b-827d-dfbfa8b634c3",
        "outputId": "c1ca195b-c4e8-453b-b678-f306ac8b28ba",
        "colab": {
          "base_uri": "https://localhost:8080/"
        }
      },
      "outputs": [
        {
          "output_type": "execute_result",
          "data": {
            "text/plain": [
              "array([[1, 9, 1, 6, 3, 8],\n",
              "       [2, 6, 4, 3, 4, 3]])"
            ]
          },
          "metadata": {},
          "execution_count": 6
        }
      ],
      "source": [
        "arr.reshape(2,6)"
      ]
    },
    {
      "cell_type": "code",
      "execution_count": 7,
      "id": "77eac4b6-d3c2-4a93-8c2f-bb711417539b",
      "metadata": {
        "id": "77eac4b6-d3c2-4a93-8c2f-bb711417539b",
        "outputId": "1c6b9cf1-f91d-44a9-f313-d3aff292492b",
        "colab": {
          "base_uri": "https://localhost:8080/"
        }
      },
      "outputs": [
        {
          "output_type": "execute_result",
          "data": {
            "text/plain": [
              "array([[1, 9, 1, 6, 3, 8],\n",
              "       [2, 6, 4, 3, 4, 3]])"
            ]
          },
          "metadata": {},
          "execution_count": 7
        }
      ],
      "source": [
        "arr.reshape(2,-242342)"
      ]
    },
    {
      "cell_type": "code",
      "execution_count": 8,
      "id": "43be7e8d-cc68-4191-baad-4bf94af48189",
      "metadata": {
        "id": "43be7e8d-cc68-4191-baad-4bf94af48189",
        "outputId": "7d27f09f-6771-41cc-e802-8fa3d5c2489c",
        "colab": {
          "base_uri": "https://localhost:8080/"
        }
      },
      "outputs": [
        {
          "output_type": "execute_result",
          "data": {
            "text/plain": [
              "array([[1, 3, 4],\n",
              "       [9, 8, 3],\n",
              "       [1, 2, 4],\n",
              "       [6, 6, 3]])"
            ]
          },
          "metadata": {},
          "execution_count": 8
        }
      ],
      "source": [
        "arr.T"
      ]
    },
    {
      "cell_type": "code",
      "execution_count": 9,
      "id": "9c1b0a47-41c2-4f36-8750-9603ba7a3a15",
      "metadata": {
        "id": "9c1b0a47-41c2-4f36-8750-9603ba7a3a15",
        "outputId": "3c145bab-f0d0-44fa-b159-1d4bd5641861",
        "colab": {
          "base_uri": "https://localhost:8080/"
        }
      },
      "outputs": [
        {
          "output_type": "execute_result",
          "data": {
            "text/plain": [
              "array([[1, 9, 1, 6],\n",
              "       [3, 8, 2, 6],\n",
              "       [4, 3, 4, 3]])"
            ]
          },
          "metadata": {},
          "execution_count": 9
        }
      ],
      "source": [
        "arr"
      ]
    },
    {
      "cell_type": "code",
      "execution_count": 10,
      "id": "2fd29656-e8be-431a-af9c-7dbaf4e39571",
      "metadata": {
        "id": "2fd29656-e8be-431a-af9c-7dbaf4e39571",
        "outputId": "dec2c67e-a69b-4d3b-eb2a-3cacc5255dcb",
        "colab": {
          "base_uri": "https://localhost:8080/"
        }
      },
      "outputs": [
        {
          "output_type": "execute_result",
          "data": {
            "text/plain": [
              "array([1, 9, 1, 6, 3, 8, 2, 6, 4, 3, 4, 3])"
            ]
          },
          "metadata": {},
          "execution_count": 10
        }
      ],
      "source": [
        "arr.flatten()"
      ]
    },
    {
      "cell_type": "code",
      "execution_count": 11,
      "id": "6f7862fc-ec30-47dc-bce8-b5101301205c",
      "metadata": {
        "id": "6f7862fc-ec30-47dc-bce8-b5101301205c"
      },
      "outputs": [],
      "source": [
        "arr1 = np.array([1,2,3,3,4])"
      ]
    },
    {
      "cell_type": "code",
      "execution_count": 12,
      "id": "15357b1f-eff7-4453-89e8-3948f925c481",
      "metadata": {
        "id": "15357b1f-eff7-4453-89e8-3948f925c481",
        "outputId": "bda6ccd0-83a8-4a2c-bf1d-435644628a28",
        "colab": {
          "base_uri": "https://localhost:8080/"
        }
      },
      "outputs": [
        {
          "output_type": "execute_result",
          "data": {
            "text/plain": [
              "1"
            ]
          },
          "metadata": {},
          "execution_count": 12
        }
      ],
      "source": [
        "arr1.ndim"
      ]
    },
    {
      "cell_type": "code",
      "execution_count": 13,
      "id": "828fbacd-05dd-4ec7-9a9f-be474c13eff5",
      "metadata": {
        "id": "828fbacd-05dd-4ec7-9a9f-be474c13eff5",
        "outputId": "52a0bc6f-cc40-4851-f7c1-ed61d4c04669",
        "colab": {
          "base_uri": "https://localhost:8080/"
        }
      },
      "outputs": [
        {
          "output_type": "execute_result",
          "data": {
            "text/plain": [
              "array([[1],\n",
              "       [2],\n",
              "       [3],\n",
              "       [3],\n",
              "       [4]])"
            ]
          },
          "metadata": {},
          "execution_count": 13
        }
      ],
      "source": [
        "np.expand_dims(arr1 ,axis=1)"
      ]
    },
    {
      "cell_type": "code",
      "execution_count": 14,
      "id": "581f2a02-7a94-46cf-ad50-89256379696e",
      "metadata": {
        "id": "581f2a02-7a94-46cf-ad50-89256379696e",
        "outputId": "f4c5cb9a-1be8-46d4-fb08-55ba7410ea30",
        "colab": {
          "base_uri": "https://localhost:8080/"
        }
      },
      "outputs": [
        {
          "output_type": "execute_result",
          "data": {
            "text/plain": [
              "array([[1, 2, 3, 3, 4]])"
            ]
          },
          "metadata": {},
          "execution_count": 14
        }
      ],
      "source": [
        "np.expand_dims(arr1 ,axis=0)"
      ]
    },
    {
      "cell_type": "code",
      "execution_count": 15,
      "id": "c5da4146-1911-4cb2-aed2-3adcb693bb51",
      "metadata": {
        "id": "c5da4146-1911-4cb2-aed2-3adcb693bb51",
        "outputId": "f4d343c4-dbce-4b06-8d61-f8c50718112f",
        "colab": {
          "base_uri": "https://localhost:8080/"
        }
      },
      "outputs": [
        {
          "output_type": "execute_result",
          "data": {
            "text/plain": [
              "array([[1, 9, 1, 6],\n",
              "       [3, 8, 2, 6],\n",
              "       [4, 3, 4, 3]])"
            ]
          },
          "metadata": {},
          "execution_count": 15
        }
      ],
      "source": [
        "arr"
      ]
    },
    {
      "cell_type": "code",
      "execution_count": 16,
      "id": "cb422a7e-f8c2-4df6-b7e0-56dc63a7c116",
      "metadata": {
        "id": "cb422a7e-f8c2-4df6-b7e0-56dc63a7c116",
        "outputId": "17651959-3d70-40d8-a856-3b22ba2fda92",
        "colab": {
          "base_uri": "https://localhost:8080/"
        }
      },
      "outputs": [
        {
          "output_type": "execute_result",
          "data": {
            "text/plain": [
              "array([[1, 9, 1, 6],\n",
              "       [3, 8, 2, 6],\n",
              "       [4, 3, 4, 3]])"
            ]
          },
          "metadata": {},
          "execution_count": 16
        }
      ],
      "source": [
        "np.squeeze(arr)"
      ]
    },
    {
      "cell_type": "code",
      "execution_count": 17,
      "id": "482a100e-261c-4a52-b7af-fc34c9dc8487",
      "metadata": {
        "id": "482a100e-261c-4a52-b7af-fc34c9dc8487"
      },
      "outputs": [],
      "source": [
        "data = np.array([[1] , [2] , [3]])"
      ]
    },
    {
      "cell_type": "code",
      "execution_count": 18,
      "id": "2e0329cd-c448-499f-a364-f4fbd2653fa8",
      "metadata": {
        "id": "2e0329cd-c448-499f-a364-f4fbd2653fa8",
        "outputId": "4f9220ef-85eb-436d-a78a-6dbde1f9b365",
        "colab": {
          "base_uri": "https://localhost:8080/"
        }
      },
      "outputs": [
        {
          "output_type": "execute_result",
          "data": {
            "text/plain": [
              "array([[1],\n",
              "       [2],\n",
              "       [3]])"
            ]
          },
          "metadata": {},
          "execution_count": 18
        }
      ],
      "source": [
        "data"
      ]
    },
    {
      "cell_type": "code",
      "execution_count": 19,
      "id": "927de255-bce2-4de3-9814-46ec3c7a4ef1",
      "metadata": {
        "id": "927de255-bce2-4de3-9814-46ec3c7a4ef1",
        "outputId": "0de0c64b-f737-4c74-bbe8-5509b6e36eb7",
        "colab": {
          "base_uri": "https://localhost:8080/"
        }
      },
      "outputs": [
        {
          "output_type": "execute_result",
          "data": {
            "text/plain": [
              "array([1, 2, 3])"
            ]
          },
          "metadata": {},
          "execution_count": 19
        }
      ],
      "source": [
        "np.squeeze(data)"
      ]
    },
    {
      "cell_type": "code",
      "execution_count": 20,
      "id": "25033fa3-39c5-4f5b-a18e-822fa164aff2",
      "metadata": {
        "id": "25033fa3-39c5-4f5b-a18e-822fa164aff2",
        "outputId": "7921e3d6-a0e0-4b96-8c2c-239a89a6aba7",
        "colab": {
          "base_uri": "https://localhost:8080/"
        }
      },
      "outputs": [
        {
          "output_type": "execute_result",
          "data": {
            "text/plain": [
              "array([1, 2, 3, 3, 4])"
            ]
          },
          "metadata": {},
          "execution_count": 20
        }
      ],
      "source": [
        "arr1"
      ]
    },
    {
      "cell_type": "code",
      "execution_count": 21,
      "id": "791c67b7-bafc-489f-8ff9-b27ace034515",
      "metadata": {
        "id": "791c67b7-bafc-489f-8ff9-b27ace034515",
        "outputId": "9a43404f-a6f7-43c3-8fe5-8cee48c14a62",
        "colab": {
          "base_uri": "https://localhost:8080/"
        }
      },
      "outputs": [
        {
          "output_type": "execute_result",
          "data": {
            "text/plain": [
              "array([1, 1, 1, 2, 2, 2, 3, 3, 3, 3, 3, 3, 4, 4, 4])"
            ]
          },
          "metadata": {},
          "execution_count": 21
        }
      ],
      "source": [
        "np.repeat(arr1, 3)"
      ]
    },
    {
      "cell_type": "code",
      "execution_count": 22,
      "id": "4ed5803c-fcb2-4112-83dc-e4a7cf80051f",
      "metadata": {
        "id": "4ed5803c-fcb2-4112-83dc-e4a7cf80051f",
        "outputId": "8fbb6dc4-2e94-4da1-9ba0-5ec6788ba075",
        "colab": {
          "base_uri": "https://localhost:8080/"
        }
      },
      "outputs": [
        {
          "output_type": "execute_result",
          "data": {
            "text/plain": [
              "array([3, 3, 4, 1, 2])"
            ]
          },
          "metadata": {},
          "execution_count": 22
        }
      ],
      "source": [
        "np.roll(arr1 , 3)"
      ]
    },
    {
      "cell_type": "code",
      "execution_count": 23,
      "id": "06c351b0-3b5e-45aa-adcb-0b6f527f1ad4",
      "metadata": {
        "id": "06c351b0-3b5e-45aa-adcb-0b6f527f1ad4",
        "outputId": "e059aa8a-9841-4333-99ae-f5f6469fa4f9",
        "colab": {
          "base_uri": "https://localhost:8080/"
        }
      },
      "outputs": [
        {
          "output_type": "execute_result",
          "data": {
            "text/plain": [
              "array([1, 2, 3, 3, 4])"
            ]
          },
          "metadata": {},
          "execution_count": 23
        }
      ],
      "source": [
        "arr1"
      ]
    },
    {
      "cell_type": "code",
      "execution_count": 24,
      "id": "9da0c1eb-9542-4359-8c82-1ae43e0d8d70",
      "metadata": {
        "id": "9da0c1eb-9542-4359-8c82-1ae43e0d8d70",
        "outputId": "43b841f2-7016-4226-8ab6-3734a4eaf2b4",
        "colab": {
          "base_uri": "https://localhost:8080/"
        }
      },
      "outputs": [
        {
          "output_type": "execute_result",
          "data": {
            "text/plain": [
              "array([[1, 0, 0, 0, 0],\n",
              "       [0, 2, 0, 0, 0],\n",
              "       [0, 0, 3, 0, 0],\n",
              "       [0, 0, 0, 3, 0],\n",
              "       [0, 0, 0, 0, 4]])"
            ]
          },
          "metadata": {},
          "execution_count": 24
        }
      ],
      "source": [
        "np.diag(arr1)##array element in diagnol"
      ]
    },
    {
      "cell_type": "code",
      "execution_count": 25,
      "id": "087bc54f-ac68-4e4e-80a6-b90971b1efc7",
      "metadata": {
        "id": "087bc54f-ac68-4e4e-80a6-b90971b1efc7"
      },
      "outputs": [],
      "source": [
        "#Numpy - Binary Operators."
      ]
    },
    {
      "cell_type": "code",
      "execution_count": 26,
      "id": "4743e781-a032-4b5c-97f9-6790a1475387",
      "metadata": {
        "id": "4743e781-a032-4b5c-97f9-6790a1475387"
      },
      "outputs": [],
      "source": [
        "arr1 = np.random.randint(1,10 , (3,4))"
      ]
    },
    {
      "cell_type": "code",
      "execution_count": 27,
      "id": "0de34a3b-bb40-438d-8bdd-a50567fd0802",
      "metadata": {
        "id": "0de34a3b-bb40-438d-8bdd-a50567fd0802"
      },
      "outputs": [],
      "source": [
        "arr2 = np.random.randint(1,10 , (3,4))"
      ]
    },
    {
      "cell_type": "code",
      "execution_count": 28,
      "id": "f365ba96-128e-4d6d-939d-ead1d78b2218",
      "metadata": {
        "id": "f365ba96-128e-4d6d-939d-ead1d78b2218",
        "outputId": "eadc68ce-1065-4bc0-c1b3-a14437ae30db",
        "colab": {
          "base_uri": "https://localhost:8080/"
        }
      },
      "outputs": [
        {
          "output_type": "execute_result",
          "data": {
            "text/plain": [
              "array([[9, 6, 9, 8],\n",
              "       [7, 6, 4, 6],\n",
              "       [2, 3, 5, 8]])"
            ]
          },
          "metadata": {},
          "execution_count": 28
        }
      ],
      "source": [
        "arr1"
      ]
    },
    {
      "cell_type": "code",
      "execution_count": 29,
      "id": "bb34436b-4a9d-4eaa-909c-507052b60928",
      "metadata": {
        "id": "bb34436b-4a9d-4eaa-909c-507052b60928",
        "outputId": "a26dfcd0-b12e-44a7-d14d-3a555992eca2",
        "colab": {
          "base_uri": "https://localhost:8080/"
        }
      },
      "outputs": [
        {
          "output_type": "execute_result",
          "data": {
            "text/plain": [
              "array([[5, 3, 6, 8],\n",
              "       [3, 3, 5, 2],\n",
              "       [6, 7, 6, 1]])"
            ]
          },
          "metadata": {},
          "execution_count": 29
        }
      ],
      "source": [
        "arr2"
      ]
    },
    {
      "cell_type": "code",
      "execution_count": 30,
      "id": "2aaa971a-c8b8-4389-bcce-e5ac95233df2",
      "metadata": {
        "id": "2aaa971a-c8b8-4389-bcce-e5ac95233df2",
        "outputId": "c581ac1e-6623-4733-cd35-fedc39fcd779",
        "colab": {
          "base_uri": "https://localhost:8080/"
        }
      },
      "outputs": [
        {
          "output_type": "execute_result",
          "data": {
            "text/plain": [
              "array([[14,  9, 15, 16],\n",
              "       [10,  9,  9,  8],\n",
              "       [ 8, 10, 11,  9]])"
            ]
          },
          "metadata": {},
          "execution_count": 30
        }
      ],
      "source": [
        "arr1+arr2"
      ]
    },
    {
      "cell_type": "code",
      "execution_count": 31,
      "id": "64bf4340-0f54-4c1b-92a4-25258f707440",
      "metadata": {
        "id": "64bf4340-0f54-4c1b-92a4-25258f707440",
        "outputId": "b95566ae-cded-4738-c88d-afa352e7e94e",
        "colab": {
          "base_uri": "https://localhost:8080/"
        }
      },
      "outputs": [
        {
          "output_type": "execute_result",
          "data": {
            "text/plain": [
              "array([[45, 18, 54, 64],\n",
              "       [21, 18, 20, 12],\n",
              "       [12, 21, 30,  8]])"
            ]
          },
          "metadata": {},
          "execution_count": 31
        }
      ],
      "source": [
        "arr1*arr2"
      ]
    },
    {
      "cell_type": "code",
      "execution_count": 32,
      "id": "9cada9db-d70b-4fc7-a799-113eea5feffc",
      "metadata": {
        "id": "9cada9db-d70b-4fc7-a799-113eea5feffc",
        "outputId": "30a8fa3d-cf48-4feb-8617-d5ef6b051a5b",
        "colab": {
          "base_uri": "https://localhost:8080/"
        }
      },
      "outputs": [
        {
          "output_type": "execute_result",
          "data": {
            "text/plain": [
              "array([[1.8       , 2.        , 1.5       , 1.        ],\n",
              "       [2.33333333, 2.        , 0.8       , 3.        ],\n",
              "       [0.33333333, 0.42857143, 0.83333333, 8.        ]])"
            ]
          },
          "metadata": {},
          "execution_count": 32
        }
      ],
      "source": [
        "arr1/arr2"
      ]
    },
    {
      "cell_type": "code",
      "execution_count": 33,
      "id": "7aa1aa01-9430-49a6-8512-a1c4659f3239",
      "metadata": {
        "id": "7aa1aa01-9430-49a6-8512-a1c4659f3239",
        "outputId": "91c79362-0c53-4d93-cd11-50394fa01ce5",
        "colab": {
          "base_uri": "https://localhost:8080/"
        }
      },
      "outputs": [
        {
          "output_type": "execute_result",
          "data": {
            "text/plain": [
              "array([[ 4,  3,  3,  0],\n",
              "       [ 4,  3, -1,  4],\n",
              "       [-4, -4, -1,  7]])"
            ]
          },
          "metadata": {},
          "execution_count": 33
        }
      ],
      "source": [
        "arr1-arr2"
      ]
    },
    {
      "cell_type": "code",
      "execution_count": 34,
      "id": "ae169e7d-614c-4413-9dc0-4e8c4f549b65",
      "metadata": {
        "id": "ae169e7d-614c-4413-9dc0-4e8c4f549b65",
        "outputId": "60ebfd17-0ae6-4274-f201-11893f6a45e7",
        "colab": {
          "base_uri": "https://localhost:8080/"
        }
      },
      "outputs": [
        {
          "output_type": "execute_result",
          "data": {
            "text/plain": [
              "array([[4, 0, 3, 0],\n",
              "       [1, 0, 4, 0],\n",
              "       [2, 3, 5, 0]])"
            ]
          },
          "metadata": {},
          "execution_count": 34
        }
      ],
      "source": [
        "arr1%arr2"
      ]
    },
    {
      "cell_type": "code",
      "execution_count": 35,
      "id": "de5cdebb-db94-4214-abee-e700ada41404",
      "metadata": {
        "id": "de5cdebb-db94-4214-abee-e700ada41404",
        "outputId": "ebb73677-bd28-4731-9bea-f2a70431840c",
        "colab": {
          "base_uri": "https://localhost:8080/"
        }
      },
      "outputs": [
        {
          "output_type": "execute_result",
          "data": {
            "text/plain": [
              "array([[   59049,      216,   531441, 16777216],\n",
              "       [     343,      216,     1024,       36],\n",
              "       [      64,     2187,    15625,        8]])"
            ]
          },
          "metadata": {},
          "execution_count": 35
        }
      ],
      "source": [
        "arr1 ** arr2"
      ]
    },
    {
      "cell_type": "code",
      "execution_count": 36,
      "id": "ba653204-07f5-48da-a72f-f509378710eb",
      "metadata": {
        "id": "ba653204-07f5-48da-a72f-f509378710eb",
        "outputId": "b294cb13-d6cc-4fb6-9606-8237e610165d",
        "colab": {
          "base_uri": "https://localhost:8080/"
        }
      },
      "outputs": [
        {
          "output_type": "execute_result",
          "data": {
            "text/plain": [
              "array([[1, 2, 0, 8],\n",
              "       [3, 2, 4, 2],\n",
              "       [2, 3, 4, 0]])"
            ]
          },
          "metadata": {},
          "execution_count": 36
        }
      ],
      "source": [
        "arr1 & arr2"
      ]
    },
    {
      "cell_type": "code",
      "execution_count": 37,
      "id": "ad37e291-4287-4b68-9ab6-601fc32b4956",
      "metadata": {
        "id": "ad37e291-4287-4b68-9ab6-601fc32b4956",
        "outputId": "1351bf70-346b-4f2d-f3d5-74a0ca6f91ed",
        "colab": {
          "base_uri": "https://localhost:8080/"
        }
      },
      "outputs": [
        {
          "output_type": "execute_result",
          "data": {
            "text/plain": [
              "array([[9, 6, 9, 8],\n",
              "       [7, 6, 4, 6],\n",
              "       [2, 3, 5, 8]])"
            ]
          },
          "metadata": {},
          "execution_count": 37
        }
      ],
      "source": [
        "arr1"
      ]
    },
    {
      "cell_type": "code",
      "execution_count": 38,
      "id": "485c49a1-042f-4b25-b9c4-f8700428940f",
      "metadata": {
        "id": "485c49a1-042f-4b25-b9c4-f8700428940f",
        "outputId": "368f97f7-044d-43c3-ba0e-945c461a1123",
        "colab": {
          "base_uri": "https://localhost:8080/"
        }
      },
      "outputs": [
        {
          "output_type": "execute_result",
          "data": {
            "text/plain": [
              "array([[5, 3, 6, 8],\n",
              "       [3, 3, 5, 2],\n",
              "       [6, 7, 6, 1]])"
            ]
          },
          "metadata": {},
          "execution_count": 38
        }
      ],
      "source": [
        "arr2"
      ]
    },
    {
      "cell_type": "code",
      "execution_count": 39,
      "id": "89b215f8-56fd-4120-bea1-7f7f9d0a38b9",
      "metadata": {
        "id": "89b215f8-56fd-4120-bea1-7f7f9d0a38b9",
        "outputId": "3aa14e41-92fc-4309-f1b1-a77c01412a05",
        "colab": {
          "base_uri": "https://localhost:8080/"
        }
      },
      "outputs": [
        {
          "output_type": "execute_result",
          "data": {
            "text/plain": [
              "array([[-10,  -7, -10,  -9],\n",
              "       [ -8,  -7,  -5,  -7],\n",
              "       [ -3,  -4,  -6,  -9]])"
            ]
          },
          "metadata": {},
          "execution_count": 39
        }
      ],
      "source": [
        "~arr1"
      ]
    },
    {
      "cell_type": "code",
      "execution_count": 40,
      "id": "7e510c77-ee13-4d69-9471-44299248149c",
      "metadata": {
        "id": "7e510c77-ee13-4d69-9471-44299248149c",
        "outputId": "7a4f332b-e6c8-4c68-8289-eb72b663fe09",
        "colab": {
          "base_uri": "https://localhost:8080/"
        }
      },
      "outputs": [
        {
          "output_type": "execute_result",
          "data": {
            "text/plain": [
              "array([[13,  7, 15,  8],\n",
              "       [ 7,  7,  5,  6],\n",
              "       [ 6,  7,  7,  9]])"
            ]
          },
          "metadata": {},
          "execution_count": 40
        }
      ],
      "source": [
        "arr1|arr2"
      ]
    },
    {
      "cell_type": "code",
      "execution_count": 41,
      "id": "10a1f04d-2d64-4354-8f7a-089f70f21ab8",
      "metadata": {
        "id": "10a1f04d-2d64-4354-8f7a-089f70f21ab8",
        "outputId": "988c76bf-d693-4a77-aff7-7ac249d80f87",
        "colab": {
          "base_uri": "https://localhost:8080/"
        }
      },
      "outputs": [
        {
          "output_type": "execute_result",
          "data": {
            "text/plain": [
              "array([[ True,  True,  True, False],\n",
              "       [ True,  True, False,  True],\n",
              "       [False, False, False,  True]])"
            ]
          },
          "metadata": {},
          "execution_count": 41
        }
      ],
      "source": [
        "arr1>arr2"
      ]
    },
    {
      "cell_type": "code",
      "execution_count": 42,
      "id": "0c577286-be78-48f5-84fb-701aa8a66710",
      "metadata": {
        "id": "0c577286-be78-48f5-84fb-701aa8a66710"
      },
      "outputs": [],
      "source": [
        "#Numpy - String Functions."
      ]
    },
    {
      "cell_type": "code",
      "execution_count": 43,
      "id": "311e0074-51cc-4ce0-935e-995426b974da",
      "metadata": {
        "id": "311e0074-51cc-4ce0-935e-995426b974da"
      },
      "outputs": [],
      "source": [
        "arr = np.array(['sudh' , \"Kumar\"])#u5 is equivalent to string"
      ]
    },
    {
      "cell_type": "code",
      "execution_count": 44,
      "id": "7a85b714-022c-4604-9f81-b0810abc39b7",
      "metadata": {
        "id": "7a85b714-022c-4604-9f81-b0810abc39b7",
        "outputId": "28810d46-95e9-41c4-cc86-6c0b73c34398",
        "colab": {
          "base_uri": "https://localhost:8080/"
        }
      },
      "outputs": [
        {
          "output_type": "execute_result",
          "data": {
            "text/plain": [
              "array(['sudh', 'Kumar'], dtype='<U5')"
            ]
          },
          "metadata": {},
          "execution_count": 44
        }
      ],
      "source": [
        "arr"
      ]
    },
    {
      "cell_type": "code",
      "execution_count": 45,
      "id": "2920b441-c446-4d67-a92e-f17047b01881",
      "metadata": {
        "id": "2920b441-c446-4d67-a92e-f17047b01881",
        "outputId": "869b8617-bd8c-4f48-8b77-11ce164f6e99",
        "colab": {
          "base_uri": "https://localhost:8080/"
        }
      },
      "outputs": [
        {
          "output_type": "execute_result",
          "data": {
            "text/plain": [
              "array(['SUDH', 'KUMAR'], dtype='<U5')"
            ]
          },
          "metadata": {},
          "execution_count": 45
        }
      ],
      "source": [
        "np.char.upper(arr)#uppercase"
      ]
    },
    {
      "cell_type": "code",
      "execution_count": 46,
      "id": "3643e8c8-1ef6-438b-9944-a66d408f58f7",
      "metadata": {
        "id": "3643e8c8-1ef6-438b-9944-a66d408f58f7",
        "outputId": "c42197e6-264c-4825-a6dd-62a140a6acfe",
        "colab": {
          "base_uri": "https://localhost:8080/"
        }
      },
      "outputs": [
        {
          "output_type": "execute_result",
          "data": {
            "text/plain": [
              "array(['Sudh', 'Kumar'], dtype='<U5')"
            ]
          },
          "metadata": {},
          "execution_count": 46
        }
      ],
      "source": [
        "np.char.title(arr)#first letter uppercase"
      ]
    },
    {
      "cell_type": "code",
      "execution_count": 47,
      "id": "15e4a766-26e6-4635-a820-af64a00accd7",
      "metadata": {
        "id": "15e4a766-26e6-4635-a820-af64a00accd7",
        "outputId": "15f3d70e-8dd8-48dc-a031-d40e1854bf8d",
        "colab": {
          "base_uri": "https://localhost:8080/"
        }
      },
      "outputs": [
        {
          "output_type": "execute_result",
          "data": {
            "text/plain": [
              "array(['Sudh', 'Kumar'], dtype='<U5')"
            ]
          },
          "metadata": {},
          "execution_count": 47
        }
      ],
      "source": [
        "np.char.capitalize(arr)"
      ]
    },
    {
      "cell_type": "code",
      "execution_count": 48,
      "id": "4be60b9e-a4ac-43a7-bd7a-c5cf4c3f1f29",
      "metadata": {
        "id": "4be60b9e-a4ac-43a7-bd7a-c5cf4c3f1f29"
      },
      "outputs": [],
      "source": [
        "#Numpy - Mathematical Functions."
      ]
    },
    {
      "cell_type": "code",
      "execution_count": 49,
      "id": "96bd5e25-ba4c-4f1f-89b9-e5fe6e8c6ae8",
      "metadata": {
        "id": "96bd5e25-ba4c-4f1f-89b9-e5fe6e8c6ae8",
        "outputId": "0056a6e4-e484-4c55-fd83-5da61f522ffe",
        "colab": {
          "base_uri": "https://localhost:8080/"
        }
      },
      "outputs": [
        {
          "output_type": "execute_result",
          "data": {
            "text/plain": [
              "array([[9, 6, 9, 8],\n",
              "       [7, 6, 4, 6],\n",
              "       [2, 3, 5, 8]])"
            ]
          },
          "metadata": {},
          "execution_count": 49
        }
      ],
      "source": [
        "arr1"
      ]
    },
    {
      "cell_type": "code",
      "execution_count": 50,
      "id": "0a1777e8-0b03-4fd8-9424-3dc1541eef3f",
      "metadata": {
        "id": "0a1777e8-0b03-4fd8-9424-3dc1541eef3f",
        "outputId": "a85206eb-2d7a-4f48-a9d8-19b35a18389c",
        "colab": {
          "base_uri": "https://localhost:8080/"
        }
      },
      "outputs": [
        {
          "output_type": "execute_result",
          "data": {
            "text/plain": [
              "array([[ 0.41211849, -0.2794155 ,  0.41211849,  0.98935825],\n",
              "       [ 0.6569866 , -0.2794155 , -0.7568025 , -0.2794155 ],\n",
              "       [ 0.90929743,  0.14112001, -0.95892427,  0.98935825]])"
            ]
          },
          "metadata": {},
          "execution_count": 50
        }
      ],
      "source": [
        "np.sin(arr1)"
      ]
    },
    {
      "cell_type": "code",
      "execution_count": 51,
      "id": "64c4b08b-6a26-41a9-851b-6c9656904bad",
      "metadata": {
        "id": "64c4b08b-6a26-41a9-851b-6c9656904bad",
        "outputId": "bb12e1b1-30cb-4fef-ca5e-3c98361fe08f",
        "colab": {
          "base_uri": "https://localhost:8080/"
        }
      },
      "outputs": [
        {
          "output_type": "execute_result",
          "data": {
            "text/plain": [
              "array([[-0.91113026,  0.96017029, -0.91113026, -0.14550003],\n",
              "       [ 0.75390225,  0.96017029, -0.65364362,  0.96017029],\n",
              "       [-0.41614684, -0.9899925 ,  0.28366219, -0.14550003]])"
            ]
          },
          "metadata": {},
          "execution_count": 51
        }
      ],
      "source": [
        "np.cos(arr1)"
      ]
    },
    {
      "cell_type": "code",
      "execution_count": 52,
      "id": "70e50bc7-d0d2-4900-a442-9dcd0caf2186",
      "metadata": {
        "id": "70e50bc7-d0d2-4900-a442-9dcd0caf2186",
        "outputId": "80a5d5c6-5143-47fd-b409-07c7b9f0e361",
        "colab": {
          "base_uri": "https://localhost:8080/"
        }
      },
      "outputs": [
        {
          "output_type": "execute_result",
          "data": {
            "text/plain": [
              "array([[-0.45231566, -0.29100619, -0.45231566, -6.79971146],\n",
              "       [ 0.87144798, -0.29100619,  1.15782128, -0.29100619],\n",
              "       [-2.18503986, -0.14254654, -3.38051501, -6.79971146]])"
            ]
          },
          "metadata": {},
          "execution_count": 52
        }
      ],
      "source": [
        "np.tan(arr1)"
      ]
    },
    {
      "cell_type": "code",
      "execution_count": 53,
      "id": "f6b6ac01-ca6a-4fce-b51c-6f95fb528c31",
      "metadata": {
        "id": "f6b6ac01-ca6a-4fce-b51c-6f95fb528c31",
        "outputId": "16695f1d-a574-4bd5-8d38-8773359d3492",
        "colab": {
          "base_uri": "https://localhost:8080/"
        }
      },
      "outputs": [
        {
          "output_type": "execute_result",
          "data": {
            "text/plain": [
              "array([[0.99999997, 0.99998771, 0.99999997, 0.99999977],\n",
              "       [0.99999834, 0.99998771, 0.9993293 , 0.99998771],\n",
              "       [0.96402758, 0.99505475, 0.9999092 , 0.99999977]])"
            ]
          },
          "metadata": {},
          "execution_count": 53
        }
      ],
      "source": [
        "np.tanh(arr1)"
      ]
    },
    {
      "cell_type": "code",
      "execution_count": 54,
      "id": "20f6a349-a0e1-463e-990c-b243f053b25f",
      "metadata": {
        "id": "20f6a349-a0e1-463e-990c-b243f053b25f",
        "outputId": "b7c7ed07-a857-47d9-9c04-a9a6f3e887f0",
        "colab": {
          "base_uri": "https://localhost:8080/"
        }
      },
      "outputs": [
        {
          "output_type": "execute_result",
          "data": {
            "text/plain": [
              "array([[0.95424251, 0.77815125, 0.95424251, 0.90308999],\n",
              "       [0.84509804, 0.77815125, 0.60205999, 0.77815125],\n",
              "       [0.30103   , 0.47712125, 0.69897   , 0.90308999]])"
            ]
          },
          "metadata": {},
          "execution_count": 54
        }
      ],
      "source": [
        "np.log10(arr1)"
      ]
    },
    {
      "cell_type": "code",
      "execution_count": 55,
      "id": "dea1ff7b-1373-462f-95ca-e04cedb7216a",
      "metadata": {
        "id": "dea1ff7b-1373-462f-95ca-e04cedb7216a",
        "outputId": "4602cc23-267d-4971-e844-f46279427cc7",
        "colab": {
          "base_uri": "https://localhost:8080/"
        }
      },
      "outputs": [
        {
          "output_type": "execute_result",
          "data": {
            "text/plain": [
              "array([[8.10308393e+03, 4.03428793e+02, 8.10308393e+03, 2.98095799e+03],\n",
              "       [1.09663316e+03, 4.03428793e+02, 5.45981500e+01, 4.03428793e+02],\n",
              "       [7.38905610e+00, 2.00855369e+01, 1.48413159e+02, 2.98095799e+03]])"
            ]
          },
          "metadata": {},
          "execution_count": 55
        }
      ],
      "source": [
        "np.exp(arr1)"
      ]
    },
    {
      "cell_type": "code",
      "execution_count": 56,
      "id": "d4d635ec-b87c-47bd-a5e7-77a9b992c075",
      "metadata": {
        "id": "d4d635ec-b87c-47bd-a5e7-77a9b992c075",
        "outputId": "cb91d666-0f70-415e-f28c-5ffd16167c76",
        "colab": {
          "base_uri": "https://localhost:8080/"
        }
      },
      "outputs": [
        {
          "output_type": "execute_result",
          "data": {
            "text/plain": [
              "array([[3.        , 2.44948974, 3.        , 2.82842712],\n",
              "       [2.64575131, 2.44948974, 2.        , 2.44948974],\n",
              "       [1.41421356, 1.73205081, 2.23606798, 2.82842712]])"
            ]
          },
          "metadata": {},
          "execution_count": 56
        }
      ],
      "source": [
        "np.sqrt(arr1)"
      ]
    },
    {
      "cell_type": "code",
      "execution_count": 57,
      "id": "26fc3c49-dfc4-4282-ad9e-3e219f5d2888",
      "metadata": {
        "id": "26fc3c49-dfc4-4282-ad9e-3e219f5d2888",
        "outputId": "f482f5c0-33b3-41f5-ef1a-1531c31f7528",
        "colab": {
          "base_uri": "https://localhost:8080/"
        }
      },
      "outputs": [
        {
          "output_type": "execute_result",
          "data": {
            "text/plain": [
              "array([[81, 36, 81, 64],\n",
              "       [49, 36, 16, 36],\n",
              "       [ 4,  9, 25, 64]])"
            ]
          },
          "metadata": {},
          "execution_count": 57
        }
      ],
      "source": [
        "np.power(arr1,2)"
      ]
    },
    {
      "cell_type": "code",
      "execution_count": 58,
      "id": "7854a41f-3a4d-48b2-8356-a1eff2c1f49c",
      "metadata": {
        "id": "7854a41f-3a4d-48b2-8356-a1eff2c1f49c",
        "outputId": "ef49c5b6-2960-4e0b-c260-162f9f603c5a",
        "colab": {
          "base_uri": "https://localhost:8080/"
        }
      },
      "outputs": [
        {
          "output_type": "execute_result",
          "data": {
            "text/plain": [
              "6.083333333333333"
            ]
          },
          "metadata": {},
          "execution_count": 58
        }
      ],
      "source": [
        "np.mean(arr1)"
      ]
    },
    {
      "cell_type": "code",
      "execution_count": 59,
      "id": "47964225-57df-46ed-abb4-f09d0554b774",
      "metadata": {
        "id": "47964225-57df-46ed-abb4-f09d0554b774",
        "outputId": "1cc31208-0eb2-4e07-e10e-a19449a1ae44",
        "colab": {
          "base_uri": "https://localhost:8080/"
        }
      },
      "outputs": [
        {
          "output_type": "execute_result",
          "data": {
            "text/plain": [
              "6.0"
            ]
          },
          "metadata": {},
          "execution_count": 59
        }
      ],
      "source": [
        "np.median(arr1)"
      ]
    },
    {
      "cell_type": "code",
      "execution_count": 60,
      "id": "ef6a5b39-9466-4a1e-a0b1-3d0bde8d9314",
      "metadata": {
        "id": "ef6a5b39-9466-4a1e-a0b1-3d0bde8d9314",
        "outputId": "b5d15a12-f0c8-4dfc-9d80-774a88336be6",
        "colab": {
          "base_uri": "https://localhost:8080/"
        }
      },
      "outputs": [
        {
          "output_type": "execute_result",
          "data": {
            "text/plain": [
              "2.1778557242286634"
            ]
          },
          "metadata": {},
          "execution_count": 60
        }
      ],
      "source": [
        "np.std(arr1)"
      ]
    },
    {
      "cell_type": "code",
      "execution_count": 61,
      "id": "9fb70efd-6272-484f-9fd8-d578198e8832",
      "metadata": {
        "id": "9fb70efd-6272-484f-9fd8-d578198e8832",
        "outputId": "e61f5ced-ad28-4cf2-d8a5-81a47cab47ab",
        "colab": {
          "base_uri": "https://localhost:8080/"
        }
      },
      "outputs": [
        {
          "output_type": "execute_result",
          "data": {
            "text/plain": [
              "4.743055555555555"
            ]
          },
          "metadata": {},
          "execution_count": 61
        }
      ],
      "source": [
        "np.var(arr1)"
      ]
    },
    {
      "cell_type": "code",
      "execution_count": 62,
      "id": "d8835b5e-0b5b-4e2e-826c-47fdf357266a",
      "metadata": {
        "id": "d8835b5e-0b5b-4e2e-826c-47fdf357266a",
        "outputId": "49bf3fbb-e7d1-49a2-be65-fc89a43eb68d",
        "colab": {
          "base_uri": "https://localhost:8080/"
        }
      },
      "outputs": [
        {
          "output_type": "execute_result",
          "data": {
            "text/plain": [
              "2"
            ]
          },
          "metadata": {},
          "execution_count": 62
        }
      ],
      "source": [
        "np.min(arr1\n",
        "      )"
      ]
    },
    {
      "cell_type": "code",
      "execution_count": 63,
      "id": "6648b623-f9f1-4fb9-9596-41bf22c32635",
      "metadata": {
        "id": "6648b623-f9f1-4fb9-9596-41bf22c32635",
        "outputId": "85bda3af-844d-4330-ef43-ae30dd1e540d",
        "colab": {
          "base_uri": "https://localhost:8080/"
        }
      },
      "outputs": [
        {
          "output_type": "execute_result",
          "data": {
            "text/plain": [
              "9"
            ]
          },
          "metadata": {},
          "execution_count": 63
        }
      ],
      "source": [
        "np.max(arr1)"
      ]
    },
    {
      "cell_type": "code",
      "execution_count": null,
      "id": "3981a976-c908-4bcd-9140-3c179a165d6f",
      "metadata": {
        "id": "3981a976-c908-4bcd-9140-3c179a165d6f"
      },
      "outputs": [],
      "source": []
    }
  ],
  "metadata": {
    "kernelspec": {
      "display_name": "Python 3 (ipykernel)",
      "language": "python",
      "name": "python3"
    },
    "language_info": {
      "codemirror_mode": {
        "name": "ipython",
        "version": 3
      },
      "file_extension": ".py",
      "mimetype": "text/x-python",
      "name": "python",
      "nbconvert_exporter": "python",
      "pygments_lexer": "ipython3",
      "version": "3.10.8"
    },
    "colab": {
      "provenance": []
    }
  },
  "nbformat": 4,
  "nbformat_minor": 5
}