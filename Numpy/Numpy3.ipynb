{
  "cells": [
    {
      "cell_type": "code",
      "execution_count": 1,
      "id": "b7f9911e-daa3-4b38-b75c-2efa7672c17f",
      "metadata": {
        "id": "b7f9911e-daa3-4b38-b75c-2efa7672c17f"
      },
      "outputs": [],
      "source": [
        "#Sort, Search & Counting Functions."
      ]
    },
    {
      "cell_type": "code",
      "execution_count": 2,
      "id": "edc9e295-4992-447d-b0fe-6c825ab0c251",
      "metadata": {
        "id": "edc9e295-4992-447d-b0fe-6c825ab0c251"
      },
      "outputs": [],
      "source": [
        "import numpy as np"
      ]
    },
    {
      "cell_type": "code",
      "execution_count": 4,
      "id": "3df26a48-811b-4090-86eb-091ceab11c87",
      "metadata": {
        "id": "3df26a48-811b-4090-86eb-091ceab11c87"
      },
      "outputs": [],
      "source": [
        "arr = np.array([4,3,4,5,6,72,3,3,455,5,6,6])"
      ]
    },
    {
      "cell_type": "code",
      "execution_count": 5,
      "id": "c7b1dd61-4388-43d2-a15d-3227b5899bc8",
      "metadata": {
        "id": "c7b1dd61-4388-43d2-a15d-3227b5899bc8",
        "outputId": "4aec18c6-d099-48fc-c75b-a283835463d8",
        "colab": {
          "base_uri": "https://localhost:8080/"
        }
      },
      "outputs": [
        {
          "output_type": "execute_result",
          "data": {
            "text/plain": [
              "array([  4,   3,   4,   5,   6,  72,   3,   3, 455,   5,   6,   6])"
            ]
          },
          "metadata": {},
          "execution_count": 5
        }
      ],
      "source": [
        "arr"
      ]
    },
    {
      "cell_type": "code",
      "execution_count": 6,
      "id": "764a8750-a87e-441f-a6de-69bbaaf7437d",
      "metadata": {
        "id": "764a8750-a87e-441f-a6de-69bbaaf7437d",
        "outputId": "eda6b76f-2a95-41e8-adcc-6eabdfe48e01",
        "colab": {
          "base_uri": "https://localhost:8080/"
        }
      },
      "outputs": [
        {
          "output_type": "execute_result",
          "data": {
            "text/plain": [
              "array([  3,   3,   3,   4,   4,   5,   5,   6,   6,   6,  72, 455])"
            ]
          },
          "metadata": {},
          "execution_count": 6
        }
      ],
      "source": [
        "np.sort(arr)"
      ]
    },
    {
      "cell_type": "code",
      "execution_count": 7,
      "id": "2d152f34-07b4-4980-8904-af171ec8d221",
      "metadata": {
        "id": "2d152f34-07b4-4980-8904-af171ec8d221",
        "outputId": "dd9b36f9-2f66-4fa9-f8a0-2024fa12b38c",
        "colab": {
          "base_uri": "https://localhost:8080/"
        }
      },
      "outputs": [
        {
          "output_type": "execute_result",
          "data": {
            "text/plain": [
              "12"
            ]
          },
          "metadata": {},
          "execution_count": 7
        }
      ],
      "source": [
        "np.searchsorted(arr ,34)#return the index where it will go"
      ]
    },
    {
      "cell_type": "code",
      "execution_count": 8,
      "id": "a417523f-74f0-4c73-8ee1-087157761742",
      "metadata": {
        "id": "a417523f-74f0-4c73-8ee1-087157761742"
      },
      "outputs": [],
      "source": [
        "arr1 = np.array([0,345,454,0,0,0,0,0])"
      ]
    },
    {
      "cell_type": "code",
      "execution_count": 9,
      "id": "a5bef365-16dd-48cf-9138-3179de26d81b",
      "metadata": {
        "id": "a5bef365-16dd-48cf-9138-3179de26d81b",
        "outputId": "76908fbe-7983-4200-c68d-9def6db28d26",
        "colab": {
          "base_uri": "https://localhost:8080/"
        }
      },
      "outputs": [
        {
          "output_type": "execute_result",
          "data": {
            "text/plain": [
              "2"
            ]
          },
          "metadata": {},
          "execution_count": 9
        }
      ],
      "source": [
        "np.count_nonzero(arr1)#number of non zero"
      ]
    },
    {
      "cell_type": "code",
      "execution_count": 10,
      "id": "e66e1c37-2e86-4210-8e45-2399943cd78a",
      "metadata": {
        "id": "e66e1c37-2e86-4210-8e45-2399943cd78a",
        "outputId": "6b1d1a30-0ffd-4e14-f221-6c229fbd6617",
        "colab": {
          "base_uri": "https://localhost:8080/"
        }
      },
      "outputs": [
        {
          "output_type": "execute_result",
          "data": {
            "text/plain": [
              "array([  4,   3,   4,   5,   6,  72,   3,   3, 455,   5,   6,   6])"
            ]
          },
          "metadata": {},
          "execution_count": 10
        }
      ],
      "source": [
        "arr"
      ]
    },
    {
      "cell_type": "code",
      "execution_count": 11,
      "id": "8704a004-f9ad-49fb-8007-ea0d844c834d",
      "metadata": {
        "id": "8704a004-f9ad-49fb-8007-ea0d844c834d",
        "outputId": "ebb9572a-74c2-40e1-ee03-c4fb23982ba3",
        "colab": {
          "base_uri": "https://localhost:8080/"
        }
      },
      "outputs": [
        {
          "output_type": "execute_result",
          "data": {
            "text/plain": [
              "(array([5, 8]),)"
            ]
          },
          "metadata": {},
          "execution_count": 11
        }
      ],
      "source": [
        "np.where(arr > 6)#return the index where this condition satisfy"
      ]
    },
    {
      "cell_type": "code",
      "execution_count": 12,
      "id": "f3839e16-8b08-4e54-9621-35085e38689c",
      "metadata": {
        "id": "f3839e16-8b08-4e54-9621-35085e38689c",
        "outputId": "c81c10f0-9d1d-4edb-e084-f6d6a8c8f7fa",
        "colab": {
          "base_uri": "https://localhost:8080/"
        }
      },
      "outputs": [
        {
          "output_type": "execute_result",
          "data": {
            "text/plain": [
              "array([  4,   4,   5,   6,  72, 455,   5,   6,   6])"
            ]
          },
          "metadata": {},
          "execution_count": 12
        }
      ],
      "source": [
        "np.extract(arr>3 , arr)"
      ]
    },
    {
      "cell_type": "code",
      "execution_count": 13,
      "id": "6904916f-4257-416b-b13c-6338c5c888ac",
      "metadata": {
        "id": "6904916f-4257-416b-b13c-6338c5c888ac"
      },
      "outputs": [],
      "source": [
        "#Numpy - Byte Swapping."
      ]
    },
    {
      "cell_type": "code",
      "execution_count": 14,
      "id": "34ade5f2-16d6-4416-8e55-a174283eaf93",
      "metadata": {
        "id": "34ade5f2-16d6-4416-8e55-a174283eaf93",
        "outputId": "ab8ed9ca-d601-454c-e63a-c2f2282a1b41",
        "colab": {
          "base_uri": "https://localhost:8080/"
        }
      },
      "outputs": [
        {
          "output_type": "execute_result",
          "data": {
            "text/plain": [
              "array([  4,   3,   4,   5,   6,  72,   3,   3, 455,   5,   6,   6])"
            ]
          },
          "metadata": {},
          "execution_count": 14
        }
      ],
      "source": [
        "arr"
      ]
    },
    {
      "cell_type": "code",
      "execution_count": 15,
      "id": "80e0692d-74d1-49d1-b262-6567a73dc04a",
      "metadata": {
        "id": "80e0692d-74d1-49d1-b262-6567a73dc04a",
        "outputId": "f1bbcad8-6ed7-4cf7-bfe4-a2990c8e2052",
        "colab": {
          "base_uri": "https://localhost:8080/"
        }
      },
      "outputs": [
        {
          "output_type": "execute_result",
          "data": {
            "text/plain": [
              "array([  288230376151711744,   216172782113783808,   288230376151711744,\n",
              "         360287970189639680,   432345564227567616,  5188146770730811392,\n",
              "         216172782113783808,   216172782113783808, -4107001385185181696,\n",
              "         360287970189639680,   432345564227567616,   432345564227567616])"
            ]
          },
          "metadata": {},
          "execution_count": 15
        }
      ],
      "source": [
        "arr.byteswap()#convert in byte"
      ]
    },
    {
      "cell_type": "code",
      "execution_count": 16,
      "id": "9efa9985-a908-4a8e-a31c-9b2d995299dd",
      "metadata": {
        "id": "9efa9985-a908-4a8e-a31c-9b2d995299dd"
      },
      "outputs": [],
      "source": [
        "#Numpy - Copies &Views."
      ]
    },
    {
      "cell_type": "code",
      "execution_count": 17,
      "id": "fccc4556-dcf9-41a7-b110-a4d327f5fbc3",
      "metadata": {
        "id": "fccc4556-dcf9-41a7-b110-a4d327f5fbc3",
        "outputId": "9a056e55-8a44-4c52-a3e3-2843be84e3c5",
        "colab": {
          "base_uri": "https://localhost:8080/"
        }
      },
      "outputs": [
        {
          "output_type": "execute_result",
          "data": {
            "text/plain": [
              "array([  4,   3,   4,   5,   6,  72,   3,   3, 455,   5,   6,   6])"
            ]
          },
          "metadata": {},
          "execution_count": 17
        }
      ],
      "source": [
        "arr"
      ]
    },
    {
      "cell_type": "code",
      "execution_count": 18,
      "id": "5fe66ca0-4b5d-4fd3-bbcc-57c6aea85808",
      "metadata": {
        "id": "5fe66ca0-4b5d-4fd3-bbcc-57c6aea85808"
      },
      "outputs": [],
      "source": [
        "a = np.copy(arr)#copy in different location"
      ]
    },
    {
      "cell_type": "code",
      "execution_count": 19,
      "id": "6ac732eb-5e60-4742-99a4-dd65c87a8e1b",
      "metadata": {
        "id": "6ac732eb-5e60-4742-99a4-dd65c87a8e1b"
      },
      "outputs": [],
      "source": [
        "b = arr.view()"
      ]
    },
    {
      "cell_type": "code",
      "execution_count": 20,
      "id": "f4e717f2-fa54-4047-bc90-b680a17703d1",
      "metadata": {
        "id": "f4e717f2-fa54-4047-bc90-b680a17703d1"
      },
      "outputs": [],
      "source": [
        "b = arr"
      ]
    },
    {
      "cell_type": "code",
      "execution_count": 21,
      "id": "bdce87eb-fb9d-4777-ab05-908c919e978c",
      "metadata": {
        "id": "bdce87eb-fb9d-4777-ab05-908c919e978c",
        "outputId": "f7c3717b-bc19-4993-b8be-df23de54edba",
        "colab": {
          "base_uri": "https://localhost:8080/"
        }
      },
      "outputs": [
        {
          "output_type": "execute_result",
          "data": {
            "text/plain": [
              "array([  4,   3,   4,   5,   6,  72,   3,   3, 455,   5,   6,   6])"
            ]
          },
          "metadata": {},
          "execution_count": 21
        }
      ],
      "source": [
        "b"
      ]
    },
    {
      "cell_type": "code",
      "execution_count": 22,
      "id": "a0a1131d-09c1-45a0-818d-e43956c13a6c",
      "metadata": {
        "id": "a0a1131d-09c1-45a0-818d-e43956c13a6c",
        "outputId": "27a9de69-32a7-4d1f-a41b-8bd5cd1d529a",
        "colab": {
          "base_uri": "https://localhost:8080/"
        }
      },
      "outputs": [
        {
          "output_type": "execute_result",
          "data": {
            "text/plain": [
              "array([  4,   3,   4,   5,   6,  72,   3,   3, 455,   5,   6,   6])"
            ]
          },
          "metadata": {},
          "execution_count": 22
        }
      ],
      "source": [
        "arr"
      ]
    },
    {
      "cell_type": "code",
      "execution_count": 23,
      "id": "43725e09-8ba4-42c6-90a5-405c8778c3df",
      "metadata": {
        "id": "43725e09-8ba4-42c6-90a5-405c8778c3df"
      },
      "outputs": [],
      "source": [
        "b[0] = 67"
      ]
    },
    {
      "cell_type": "code",
      "execution_count": 24,
      "id": "4b44653a-dea3-493a-bcf8-fa2b081e9ba4",
      "metadata": {
        "id": "4b44653a-dea3-493a-bcf8-fa2b081e9ba4",
        "outputId": "efb6fa40-2da5-4a91-f94e-4cf841fb7a48",
        "colab": {
          "base_uri": "https://localhost:8080/"
        }
      },
      "outputs": [
        {
          "output_type": "execute_result",
          "data": {
            "text/plain": [
              "array([ 67,   3,   4,   5,   6,  72,   3,   3, 455,   5,   6,   6])"
            ]
          },
          "metadata": {},
          "execution_count": 24
        }
      ],
      "source": [
        "b"
      ]
    },
    {
      "cell_type": "code",
      "execution_count": 25,
      "id": "7215c2ca-3944-4c52-a0b8-cd8de6b5a7d5",
      "metadata": {
        "id": "7215c2ca-3944-4c52-a0b8-cd8de6b5a7d5",
        "outputId": "da3b0e63-dace-4979-cda1-ca7dba7068f5",
        "colab": {
          "base_uri": "https://localhost:8080/"
        }
      },
      "outputs": [
        {
          "output_type": "execute_result",
          "data": {
            "text/plain": [
              "array([ 67,   3,   4,   5,   6,  72,   3,   3, 455,   5,   6,   6])"
            ]
          },
          "metadata": {},
          "execution_count": 25
        }
      ],
      "source": [
        "arr"
      ]
    },
    {
      "cell_type": "code",
      "execution_count": 26,
      "id": "65037e45-8037-4704-a822-24923171b621",
      "metadata": {
        "id": "65037e45-8037-4704-a822-24923171b621"
      },
      "outputs": [],
      "source": [
        "#Numpy - Matrix Library."
      ]
    },
    {
      "cell_type": "code",
      "execution_count": 27,
      "id": "c88de0e4-8e91-4c17-9c2c-b03799c45452",
      "metadata": {
        "id": "c88de0e4-8e91-4c17-9c2c-b03799c45452"
      },
      "outputs": [],
      "source": [
        "import numpy.matlib as nm"
      ]
    },
    {
      "cell_type": "code",
      "execution_count": 28,
      "id": "b1fd0920-6849-4e30-97c4-a8d663a6c248",
      "metadata": {
        "id": "b1fd0920-6849-4e30-97c4-a8d663a6c248",
        "outputId": "e5c94425-8b34-4dab-c4ed-504045435c30",
        "colab": {
          "base_uri": "https://localhost:8080/"
        }
      },
      "outputs": [
        {
          "output_type": "execute_result",
          "data": {
            "text/plain": [
              "matrix([[0., 0., 0., 0., 0.]])"
            ]
          },
          "metadata": {},
          "execution_count": 28
        }
      ],
      "source": [
        "nm.zeros(5\n",
        "        )"
      ]
    },
    {
      "cell_type": "code",
      "execution_count": 29,
      "id": "02ea015d-707b-401f-a298-6f47b111f893",
      "metadata": {
        "id": "02ea015d-707b-401f-a298-6f47b111f893",
        "outputId": "daf17a7d-6510-4964-ea2c-d4bc109bfbea",
        "colab": {
          "base_uri": "https://localhost:8080/"
        }
      },
      "outputs": [
        {
          "output_type": "execute_result",
          "data": {
            "text/plain": [
              "matrix([[1., 1., 1., 1.],\n",
              "        [1., 1., 1., 1.],\n",
              "        [1., 1., 1., 1.]])"
            ]
          },
          "metadata": {},
          "execution_count": 29
        }
      ],
      "source": [
        "nm.ones((3,4))"
      ]
    },
    {
      "cell_type": "code",
      "execution_count": 30,
      "id": "19d2adbf-e996-4f0d-b3dc-28d3d5849514",
      "metadata": {
        "id": "19d2adbf-e996-4f0d-b3dc-28d3d5849514",
        "outputId": "16858b0c-d9ee-436b-deae-64db58463fc8",
        "colab": {
          "base_uri": "https://localhost:8080/"
        }
      },
      "outputs": [
        {
          "output_type": "execute_result",
          "data": {
            "text/plain": [
              "matrix([[1., 0., 0., 0., 0.],\n",
              "        [0., 1., 0., 0., 0.],\n",
              "        [0., 0., 1., 0., 0.],\n",
              "        [0., 0., 0., 1., 0.],\n",
              "        [0., 0., 0., 0., 1.]])"
            ]
          },
          "metadata": {},
          "execution_count": 30
        }
      ],
      "source": [
        "nm.eye(5)#identity matrix"
      ]
    },
    {
      "cell_type": "code",
      "execution_count": 31,
      "id": "3b6d62bb-4a48-4be8-96e9-35a5ea9b2498",
      "metadata": {
        "id": "3b6d62bb-4a48-4be8-96e9-35a5ea9b2498"
      },
      "outputs": [],
      "source": [
        "#Numpy - Linear Algebra"
      ]
    },
    {
      "cell_type": "code",
      "execution_count": 32,
      "id": "51c3cada-96bf-4b5f-b937-a4782dc8d48a",
      "metadata": {
        "id": "51c3cada-96bf-4b5f-b937-a4782dc8d48a"
      },
      "outputs": [],
      "source": [
        "arr1 = np.random.randint([[2,3] , [4,5]])"
      ]
    },
    {
      "cell_type": "code",
      "execution_count": 33,
      "id": "a160ada2-614c-4afb-b736-0774c90a99d9",
      "metadata": {
        "id": "a160ada2-614c-4afb-b736-0774c90a99d9"
      },
      "outputs": [],
      "source": [
        "arr2 = np.random.randint([[5,3] , [2,5]])\n"
      ]
    },
    {
      "cell_type": "code",
      "execution_count": 35,
      "id": "18112620-e2a8-4e9a-884b-db6298f457a7",
      "metadata": {
        "id": "18112620-e2a8-4e9a-884b-db6298f457a7",
        "outputId": "7c7b92d3-3e88-462b-9c01-bb6e8d12d6b2",
        "colab": {
          "base_uri": "https://localhost:8080/"
        }
      },
      "outputs": [
        {
          "output_type": "execute_result",
          "data": {
            "text/plain": [
              "array([[0, 0],\n",
              "       [0, 0]])"
            ]
          },
          "metadata": {},
          "execution_count": 35
        }
      ],
      "source": [
        "np.dot(arr1,arr2)"
      ]
    }
  ],
  "metadata": {
    "kernelspec": {
      "display_name": "Python 3 (ipykernel)",
      "language": "python",
      "name": "python3"
    },
    "language_info": {
      "codemirror_mode": {
        "name": "ipython",
        "version": 3
      },
      "file_extension": ".py",
      "mimetype": "text/x-python",
      "name": "python",
      "nbconvert_exporter": "python",
      "pygments_lexer": "ipython3",
      "version": "3.10.8"
    },
    "colab": {
      "provenance": []
    }
  },
  "nbformat": 4,
  "nbformat_minor": 5
}