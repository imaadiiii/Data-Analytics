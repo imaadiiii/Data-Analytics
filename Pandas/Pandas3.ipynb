{
  "cells": [
    {
      "cell_type": "code",
      "execution_count": 2,
      "id": "db6aec57-1649-40b6-b556-1818d97caac9",
      "metadata": {
        "id": "db6aec57-1649-40b6-b556-1818d97caac9"
      },
      "outputs": [],
      "source": [
        "import pandas as pd"
      ]
    },
    {
      "cell_type": "code",
      "execution_count": 3,
      "id": "42408f99-c0e8-4b6f-9f70-de76246ae62d",
      "metadata": {
        "id": "42408f99-c0e8-4b6f-9f70-de76246ae62d"
      },
      "outputs": [],
      "source": [
        "df= pd.read_csv(\"https://raw.githubusercontent.com/datasciencedojo/datasets/master/titanic.csv\")"
      ]
    },
    {
      "cell_type": "code",
      "execution_count": 4,
      "id": "b32b578e-75f9-479c-8984-e7eabf42cada",
      "metadata": {
        "id": "b32b578e-75f9-479c-8984-e7eabf42cada",
        "outputId": "6b42066d-c75f-4e5e-af56-88d9b26055ff",
        "colab": {
          "base_uri": "https://localhost:8080/"
        }
      },
      "outputs": [
        {
          "output_type": "execute_result",
          "data": {
            "text/plain": [
              "Index(['PassengerId', 'Survived', 'Pclass', 'Name', 'Sex', 'Age', 'SibSp',\n",
              "       'Parch', 'Ticket', 'Fare', 'Cabin', 'Embarked'],\n",
              "      dtype='object')"
            ]
          },
          "metadata": {},
          "execution_count": 4
        }
      ],
      "source": [
        "df.columns"
      ]
    },
    {
      "cell_type": "code",
      "execution_count": 5,
      "id": "4eee517e-0bd8-4902-9f92-fe172919570a",
      "metadata": {
        "id": "4eee517e-0bd8-4902-9f92-fe172919570a"
      },
      "outputs": [],
      "source": [
        "s = df['Name'][0:10]"
      ]
    },
    {
      "cell_type": "code",
      "execution_count": 6,
      "id": "f7f1719a-ad0d-4473-b748-c6e4857113b1",
      "metadata": {
        "id": "f7f1719a-ad0d-4473-b748-c6e4857113b1",
        "outputId": "5aaff7d9-047b-408c-cefd-a2dc170bff9c",
        "colab": {
          "base_uri": "https://localhost:8080/"
        }
      },
      "outputs": [
        {
          "output_type": "execute_result",
          "data": {
            "text/plain": [
              "0                              Braund, Mr. Owen Harris\n",
              "1    Cumings, Mrs. John Bradley (Florence Briggs Th...\n",
              "2                               Heikkinen, Miss. Laina\n",
              "3         Futrelle, Mrs. Jacques Heath (Lily May Peel)\n",
              "4                             Allen, Mr. William Henry\n",
              "5                                     Moran, Mr. James\n",
              "6                              McCarthy, Mr. Timothy J\n",
              "7                       Palsson, Master. Gosta Leonard\n",
              "8    Johnson, Mrs. Oscar W (Elisabeth Vilhelmina Berg)\n",
              "9                  Nasser, Mrs. Nicholas (Adele Achem)\n",
              "Name: Name, dtype: object"
            ]
          },
          "metadata": {},
          "execution_count": 6
        }
      ],
      "source": [
        "s"
      ]
    },
    {
      "cell_type": "code",
      "execution_count": 7,
      "id": "6cd57910-1e54-4006-8fc0-882b21405132",
      "metadata": {
        "id": "6cd57910-1e54-4006-8fc0-882b21405132",
        "outputId": "ae0b0efc-6886-4785-9845-a636e94ab740",
        "colab": {
          "base_uri": "https://localhost:8080/"
        }
      },
      "outputs": [
        {
          "output_type": "execute_result",
          "data": {
            "text/plain": [
              "10"
            ]
          },
          "metadata": {},
          "execution_count": 7
        }
      ],
      "source": [
        "len(s)"
      ]
    },
    {
      "cell_type": "code",
      "execution_count": 8,
      "id": "cfdf0e3a-b14e-45ce-85cc-d681f65fb8e4",
      "metadata": {
        "id": "cfdf0e3a-b14e-45ce-85cc-d681f65fb8e4",
        "outputId": "93d88036-0550-4deb-ea66-57fcfaf4bdef",
        "colab": {
          "base_uri": "https://localhost:8080/",
          "height": 203
        }
      },
      "outputs": [
        {
          "output_type": "execute_result",
          "data": {
            "text/plain": [
              "pandas.core.series.Series"
            ],
            "text/html": [
              "<div style=\"max-width:800px; border: 1px solid var(--colab-border-color);\"><style>\n",
              "      pre.function-repr-contents {\n",
              "        overflow-x: auto;\n",
              "        padding: 8px 12px;\n",
              "        max-height: 500px;\n",
              "      }\n",
              "\n",
              "      pre.function-repr-contents.function-repr-contents-collapsed {\n",
              "        cursor: pointer;\n",
              "        max-height: 100px;\n",
              "      }\n",
              "    </style>\n",
              "    <pre style=\"white-space: initial; background:\n",
              "         var(--colab-secondary-surface-color); padding: 8px 12px;\n",
              "         border-bottom: 1px solid var(--colab-border-color);\"><b>pandas.core.series.Series</b><br/>def __init__(data=None, index=None, dtype: Dtype | None=None, name=None, copy: bool | None=None, fastpath: bool=False) -&gt; None</pre><pre class=\"function-repr-contents function-repr-contents-collapsed\" style=\"\"><a class=\"filepath\" style=\"display:none\" href=\"#\">/usr/local/lib/python3.10/dist-packages/pandas/core/series.py</a>One-dimensional ndarray with axis labels (including time series).\n",
              "\n",
              "Labels need not be unique but must be a hashable type. The object\n",
              "supports both integer- and label-based indexing and provides a host of\n",
              "methods for performing operations involving the index. Statistical\n",
              "methods from ndarray have been overridden to automatically exclude\n",
              "missing data (currently represented as NaN).\n",
              "\n",
              "Operations between Series (+, -, /, \\*, \\*\\*) align values based on their\n",
              "associated index values-- they need not be the same length. The result\n",
              "index will be the sorted union of the two indexes.\n",
              "\n",
              "Parameters\n",
              "----------\n",
              "data : array-like, Iterable, dict, or scalar value\n",
              "    Contains data stored in Series. If data is a dict, argument order is\n",
              "    maintained.\n",
              "index : array-like or Index (1d)\n",
              "    Values must be hashable and have the same length as `data`.\n",
              "    Non-unique index values are allowed. Will default to\n",
              "    RangeIndex (0, 1, 2, ..., n) if not provided. If data is dict-like\n",
              "    and index is None, then the keys in the data are used as the index. If the\n",
              "    index is not None, the resulting Series is reindexed with the index values.\n",
              "dtype : str, numpy.dtype, or ExtensionDtype, optional\n",
              "    Data type for the output Series. If not specified, this will be\n",
              "    inferred from `data`.\n",
              "    See the :ref:`user guide &lt;basics.dtypes&gt;` for more usages.\n",
              "name : Hashable, default None\n",
              "    The name to give to the Series.\n",
              "copy : bool, default False\n",
              "    Copy input data. Only affects Series or 1d ndarray input. See examples.\n",
              "\n",
              "Notes\n",
              "-----\n",
              "Please reference the :ref:`User Guide &lt;basics.series&gt;` for more information.\n",
              "\n",
              "Examples\n",
              "--------\n",
              "Constructing Series from a dictionary with an Index specified\n",
              "\n",
              "&gt;&gt;&gt; d = {&#x27;a&#x27;: 1, &#x27;b&#x27;: 2, &#x27;c&#x27;: 3}\n",
              "&gt;&gt;&gt; ser = pd.Series(data=d, index=[&#x27;a&#x27;, &#x27;b&#x27;, &#x27;c&#x27;])\n",
              "&gt;&gt;&gt; ser\n",
              "a   1\n",
              "b   2\n",
              "c   3\n",
              "dtype: int64\n",
              "\n",
              "The keys of the dictionary match with the Index values, hence the Index\n",
              "values have no effect.\n",
              "\n",
              "&gt;&gt;&gt; d = {&#x27;a&#x27;: 1, &#x27;b&#x27;: 2, &#x27;c&#x27;: 3}\n",
              "&gt;&gt;&gt; ser = pd.Series(data=d, index=[&#x27;x&#x27;, &#x27;y&#x27;, &#x27;z&#x27;])\n",
              "&gt;&gt;&gt; ser\n",
              "x   NaN\n",
              "y   NaN\n",
              "z   NaN\n",
              "dtype: float64\n",
              "\n",
              "Note that the Index is first build with the keys from the dictionary.\n",
              "After this the Series is reindexed with the given Index values, hence we\n",
              "get all NaN as a result.\n",
              "\n",
              "Constructing Series from a list with `copy=False`.\n",
              "\n",
              "&gt;&gt;&gt; r = [1, 2]\n",
              "&gt;&gt;&gt; ser = pd.Series(r, copy=False)\n",
              "&gt;&gt;&gt; ser.iloc[0] = 999\n",
              "&gt;&gt;&gt; r\n",
              "[1, 2]\n",
              "&gt;&gt;&gt; ser\n",
              "0    999\n",
              "1      2\n",
              "dtype: int64\n",
              "\n",
              "Due to input data type the Series has a `copy` of\n",
              "the original data even though `copy=False`, so\n",
              "the data is unchanged.\n",
              "\n",
              "Constructing Series from a 1d ndarray with `copy=False`.\n",
              "\n",
              "&gt;&gt;&gt; r = np.array([1, 2])\n",
              "&gt;&gt;&gt; ser = pd.Series(r, copy=False)\n",
              "&gt;&gt;&gt; ser.iloc[0] = 999\n",
              "&gt;&gt;&gt; r\n",
              "array([999,   2])\n",
              "&gt;&gt;&gt; ser\n",
              "0    999\n",
              "1      2\n",
              "dtype: int64\n",
              "\n",
              "Due to input data type the Series has a `view` on\n",
              "the original data, so\n",
              "the data is changed as well.</pre>\n",
              "      <script>\n",
              "      if (google.colab.kernel.accessAllowed && google.colab.files && google.colab.files.view) {\n",
              "        for (const element of document.querySelectorAll('.filepath')) {\n",
              "          element.style.display = 'block'\n",
              "          element.onclick = (event) => {\n",
              "            event.preventDefault();\n",
              "            event.stopPropagation();\n",
              "            google.colab.files.view(element.textContent, 244);\n",
              "          };\n",
              "        }\n",
              "      }\n",
              "      for (const element of document.querySelectorAll('.function-repr-contents')) {\n",
              "        element.onclick = (event) => {\n",
              "          event.preventDefault();\n",
              "          event.stopPropagation();\n",
              "          element.classList.toggle('function-repr-contents-collapsed');\n",
              "        };\n",
              "      }\n",
              "      </script>\n",
              "      </div>"
            ]
          },
          "metadata": {},
          "execution_count": 8
        }
      ],
      "source": [
        "type(s)"
      ]
    },
    {
      "cell_type": "code",
      "execution_count": 9,
      "id": "67632f14-cc4b-4e9d-9074-2e30c7b1eadc",
      "metadata": {
        "id": "67632f14-cc4b-4e9d-9074-2e30c7b1eadc",
        "outputId": "9bf6d4c0-5a26-409b-e94e-0b03d903dab5",
        "colab": {
          "base_uri": "https://localhost:8080/"
        }
      },
      "outputs": [
        {
          "output_type": "execute_result",
          "data": {
            "text/plain": [
              "0                              Braund, Mr. Owen Harris\n",
              "1    Cumings, Mrs. John Bradley (Florence Briggs Th...\n",
              "2                               Heikkinen, Miss. Laina\n",
              "3         Futrelle, Mrs. Jacques Heath (Lily May Peel)\n",
              "4                             Allen, Mr. William Henry\n",
              "5                                     Moran, Mr. James\n",
              "6                              McCarthy, Mr. Timothy J\n",
              "7                       Palsson, Master. Gosta Leonard\n",
              "8    Johnson, Mrs. Oscar W (Elisabeth Vilhelmina Berg)\n",
              "9                  Nasser, Mrs. Nicholas (Adele Achem)\n",
              "Name: Name, dtype: object"
            ]
          },
          "metadata": {},
          "execution_count": 9
        }
      ],
      "source": [
        "s"
      ]
    },
    {
      "cell_type": "code",
      "execution_count": 10,
      "id": "e4ba3096-9c31-40f4-be46-6ca4e30745dd",
      "metadata": {
        "id": "e4ba3096-9c31-40f4-be46-6ca4e30745dd"
      },
      "outputs": [],
      "source": [
        "l = ['sudh','b','c','d','e','f','g','h','i','j']"
      ]
    },
    {
      "cell_type": "code",
      "execution_count": 11,
      "id": "3c749a6f-cae3-4234-8b86-f1a70b362802",
      "metadata": {
        "id": "3c749a6f-cae3-4234-8b86-f1a70b362802"
      },
      "outputs": [],
      "source": [
        "s1 =pd.Series(list(s),index=l)"
      ]
    },
    {
      "cell_type": "code",
      "execution_count": 12,
      "id": "7a6b4e38-2849-4740-82cd-181b6c40f3b5",
      "metadata": {
        "id": "7a6b4e38-2849-4740-82cd-181b6c40f3b5",
        "outputId": "3a01789a-3f51-4436-c75d-05149871dbc9",
        "colab": {
          "base_uri": "https://localhost:8080/"
        }
      },
      "outputs": [
        {
          "output_type": "execute_result",
          "data": {
            "text/plain": [
              "0                              Braund, Mr. Owen Harris\n",
              "1    Cumings, Mrs. John Bradley (Florence Briggs Th...\n",
              "2                               Heikkinen, Miss. Laina\n",
              "3         Futrelle, Mrs. Jacques Heath (Lily May Peel)\n",
              "4                             Allen, Mr. William Henry\n",
              "5                                     Moran, Mr. James\n",
              "6                              McCarthy, Mr. Timothy J\n",
              "7                       Palsson, Master. Gosta Leonard\n",
              "8    Johnson, Mrs. Oscar W (Elisabeth Vilhelmina Berg)\n",
              "9                  Nasser, Mrs. Nicholas (Adele Achem)\n",
              "Name: Name, dtype: object"
            ]
          },
          "metadata": {},
          "execution_count": 12
        }
      ],
      "source": [
        "s"
      ]
    },
    {
      "cell_type": "code",
      "execution_count": 13,
      "id": "e5204395-da94-48c6-bb91-8fdec15a93ca",
      "metadata": {
        "id": "e5204395-da94-48c6-bb91-8fdec15a93ca",
        "outputId": "97031202-9ecd-4029-ccbe-4f3bb75a28d0",
        "colab": {
          "base_uri": "https://localhost:8080/"
        }
      },
      "outputs": [
        {
          "output_type": "execute_result",
          "data": {
            "text/plain": [
              "sudh                              Braund, Mr. Owen Harris\n",
              "b       Cumings, Mrs. John Bradley (Florence Briggs Th...\n",
              "c                                  Heikkinen, Miss. Laina\n",
              "d            Futrelle, Mrs. Jacques Heath (Lily May Peel)\n",
              "e                                Allen, Mr. William Henry\n",
              "f                                        Moran, Mr. James\n",
              "g                                 McCarthy, Mr. Timothy J\n",
              "h                          Palsson, Master. Gosta Leonard\n",
              "i       Johnson, Mrs. Oscar W (Elisabeth Vilhelmina Berg)\n",
              "j                     Nasser, Mrs. Nicholas (Adele Achem)\n",
              "dtype: object"
            ]
          },
          "metadata": {},
          "execution_count": 13
        }
      ],
      "source": [
        "s1"
      ]
    },
    {
      "cell_type": "code",
      "execution_count": 14,
      "id": "9866d92c-57bf-4400-b311-47de81950802",
      "metadata": {
        "id": "9866d92c-57bf-4400-b311-47de81950802",
        "outputId": "e4c6ace5-ce29-45d4-db72-61297c3a94b9",
        "colab": {
          "base_uri": "https://localhost:8080/",
          "height": 35
        }
      },
      "outputs": [
        {
          "output_type": "execute_result",
          "data": {
            "text/plain": [
              "'Braund, Mr. Owen Harris'"
            ],
            "application/vnd.google.colaboratory.intrinsic+json": {
              "type": "string"
            }
          },
          "metadata": {},
          "execution_count": 14
        }
      ],
      "source": [
        "s[0]"
      ]
    },
    {
      "cell_type": "code",
      "execution_count": 15,
      "id": "8a7d81dd-a23b-4419-913f-7b66de60f72f",
      "metadata": {
        "id": "8a7d81dd-a23b-4419-913f-7b66de60f72f",
        "outputId": "a5599bef-93ce-491b-8b94-37241562b4d0",
        "colab": {
          "base_uri": "https://localhost:8080/",
          "height": 35
        }
      },
      "outputs": [
        {
          "output_type": "execute_result",
          "data": {
            "text/plain": [
              "'Braund, Mr. Owen Harris'"
            ],
            "application/vnd.google.colaboratory.intrinsic+json": {
              "type": "string"
            }
          },
          "metadata": {},
          "execution_count": 15
        }
      ],
      "source": [
        "s1[0]"
      ]
    },
    {
      "cell_type": "code",
      "execution_count": 16,
      "id": "e3bb5724-6070-4977-bd77-3ef9a7224630",
      "metadata": {
        "id": "e3bb5724-6070-4977-bd77-3ef9a7224630",
        "outputId": "a749d529-a406-4705-8f12-1f95e66a5f38",
        "colab": {
          "base_uri": "https://localhost:8080/",
          "height": 35
        }
      },
      "outputs": [
        {
          "output_type": "execute_result",
          "data": {
            "text/plain": [
              "'Braund, Mr. Owen Harris'"
            ],
            "application/vnd.google.colaboratory.intrinsic+json": {
              "type": "string"
            }
          },
          "metadata": {},
          "execution_count": 16
        }
      ],
      "source": [
        "s1[\"sudh\"]"
      ]
    },
    {
      "cell_type": "code",
      "source": [
        "s2 = pd.concat([s, s1], ignore_index=False)\n"
      ],
      "metadata": {
        "id": "HAvyZpx-Pci6"
      },
      "id": "HAvyZpx-Pci6",
      "execution_count": 33,
      "outputs": []
    },
    {
      "cell_type": "code",
      "execution_count": 34,
      "id": "91b46a97-4ef2-4b8c-a500-2abe81ff54ca",
      "metadata": {
        "id": "91b46a97-4ef2-4b8c-a500-2abe81ff54ca",
        "outputId": "72f99dc0-b341-417f-e911-477fe0d8168a",
        "colab": {
          "base_uri": "https://localhost:8080/"
        }
      },
      "outputs": [
        {
          "output_type": "execute_result",
          "data": {
            "text/plain": [
              "0                                 Braund, Mr. Owen Harris\n",
              "1       Cumings, Mrs. John Bradley (Florence Briggs Th...\n",
              "2                                  Heikkinen, Miss. Laina\n",
              "3            Futrelle, Mrs. Jacques Heath (Lily May Peel)\n",
              "4                                Allen, Mr. William Henry\n",
              "5                                        Moran, Mr. James\n",
              "6                                 McCarthy, Mr. Timothy J\n",
              "7                          Palsson, Master. Gosta Leonard\n",
              "8       Johnson, Mrs. Oscar W (Elisabeth Vilhelmina Berg)\n",
              "9                     Nasser, Mrs. Nicholas (Adele Achem)\n",
              "sudh                              Braund, Mr. Owen Harris\n",
              "b       Cumings, Mrs. John Bradley (Florence Briggs Th...\n",
              "c                                  Heikkinen, Miss. Laina\n",
              "d            Futrelle, Mrs. Jacques Heath (Lily May Peel)\n",
              "e                                Allen, Mr. William Henry\n",
              "f                                        Moran, Mr. James\n",
              "g                                 McCarthy, Mr. Timothy J\n",
              "h                          Palsson, Master. Gosta Leonard\n",
              "i       Johnson, Mrs. Oscar W (Elisabeth Vilhelmina Berg)\n",
              "j                     Nasser, Mrs. Nicholas (Adele Achem)\n",
              "dtype: object"
            ]
          },
          "metadata": {},
          "execution_count": 34
        }
      ],
      "source": [
        "s2"
      ]
    },
    {
      "cell_type": "code",
      "execution_count": 35,
      "id": "8260fc18-896f-4e28-96a2-8985f96940b5",
      "metadata": {
        "id": "8260fc18-896f-4e28-96a2-8985f96940b5",
        "outputId": "f1af6fce-1c28-4801-80c3-de2637f34a01",
        "colab": {
          "base_uri": "https://localhost:8080/",
          "height": 35
        }
      },
      "outputs": [
        {
          "output_type": "execute_result",
          "data": {
            "text/plain": [
              "'Allen, Mr. William Henry'"
            ],
            "application/vnd.google.colaboratory.intrinsic+json": {
              "type": "string"
            }
          },
          "metadata": {},
          "execution_count": 35
        }
      ],
      "source": [
        "s2[4]"
      ]
    },
    {
      "cell_type": "code",
      "execution_count": 36,
      "id": "2b876426-8a6a-449e-8b39-be30ad806ac6",
      "metadata": {
        "id": "2b876426-8a6a-449e-8b39-be30ad806ac6"
      },
      "outputs": [],
      "source": [
        "s4 = pd.Series([3,4,5,6,6] , index=[2,4,5,6,1])"
      ]
    },
    {
      "cell_type": "code",
      "execution_count": 37,
      "id": "8bc6b87f-f5dd-4440-9214-3da23c9d30a7",
      "metadata": {
        "id": "8bc6b87f-f5dd-4440-9214-3da23c9d30a7"
      },
      "outputs": [],
      "source": [
        "s5 = pd.Series([34,345,45,45,454] , index=[9,4,5,6,7])"
      ]
    },
    {
      "cell_type": "code",
      "execution_count": 38,
      "id": "b8765ce0-b423-4acd-b93c-673e3bf074fb",
      "metadata": {
        "id": "b8765ce0-b423-4acd-b93c-673e3bf074fb"
      },
      "outputs": [],
      "source": [
        "s6 = pd.concat([s4, s5], ignore_index=False)"
      ]
    },
    {
      "cell_type": "code",
      "execution_count": 39,
      "id": "5e6745e8-ea09-484d-a091-dc8b674bd6c6",
      "metadata": {
        "id": "5e6745e8-ea09-484d-a091-dc8b674bd6c6",
        "outputId": "d6f05e6d-ca8d-405d-d81f-e23aed2af734",
        "colab": {
          "base_uri": "https://localhost:8080/"
        }
      },
      "outputs": [
        {
          "output_type": "execute_result",
          "data": {
            "text/plain": [
              "2      3\n",
              "4      4\n",
              "5      5\n",
              "6      6\n",
              "1      6\n",
              "9     34\n",
              "4    345\n",
              "5     45\n",
              "6     45\n",
              "7    454\n",
              "dtype: int64"
            ]
          },
          "metadata": {},
          "execution_count": 39
        }
      ],
      "source": [
        "s6"
      ]
    },
    {
      "cell_type": "code",
      "execution_count": 40,
      "id": "969583af-6be6-4b13-800c-763ad27140b9",
      "metadata": {
        "id": "969583af-6be6-4b13-800c-763ad27140b9",
        "outputId": "dd6e8f11-841a-4b76-d606-c3bd154eb504",
        "colab": {
          "base_uri": "https://localhost:8080/"
        }
      },
      "outputs": [
        {
          "output_type": "execute_result",
          "data": {
            "text/plain": [
              "4      4\n",
              "4    345\n",
              "dtype: int64"
            ]
          },
          "metadata": {},
          "execution_count": 40
        }
      ],
      "source": [
        "s6[4]"
      ]
    },
    {
      "cell_type": "code",
      "execution_count": 41,
      "id": "01c2247f-c09d-4594-ab98-d8ee34bca944",
      "metadata": {
        "id": "01c2247f-c09d-4594-ab98-d8ee34bca944",
        "outputId": "bd0d4598-af3a-44fd-ff2b-204d93b18e1a",
        "colab": {
          "base_uri": "https://localhost:8080/"
        }
      },
      "outputs": [
        {
          "output_type": "execute_result",
          "data": {
            "text/plain": [
              "2    3\n",
              "4    4\n",
              "5    5\n",
              "6    6\n",
              "1    6\n",
              "dtype: int64"
            ]
          },
          "metadata": {},
          "execution_count": 41
        }
      ],
      "source": [
        "s6[0:5]"
      ]
    },
    {
      "cell_type": "code",
      "execution_count": 42,
      "id": "55707b1f-5181-4a4f-bc91-560353db137d",
      "metadata": {
        "id": "55707b1f-5181-4a4f-bc91-560353db137d",
        "outputId": "f5ae0a61-4e69-4768-c75b-2cc4431d78c3",
        "colab": {
          "base_uri": "https://localhost:8080/"
        }
      },
      "outputs": [
        {
          "output_type": "execute_result",
          "data": {
            "text/plain": [
              "2    3\n",
              "4    4\n",
              "5    5\n",
              "6    6\n",
              "1    6\n",
              "dtype: int64"
            ]
          },
          "metadata": {},
          "execution_count": 42
        }
      ],
      "source": [
        "s4"
      ]
    },
    {
      "cell_type": "code",
      "execution_count": 43,
      "id": "d0fc6ff3-d230-42b2-a0dd-8021680d6f5e",
      "metadata": {
        "id": "d0fc6ff3-d230-42b2-a0dd-8021680d6f5e",
        "outputId": "acf05794-6e6e-4b86-e18f-c83c2aa12f09",
        "colab": {
          "base_uri": "https://localhost:8080/"
        }
      },
      "outputs": [
        {
          "output_type": "execute_result",
          "data": {
            "text/plain": [
              "9     34\n",
              "4    345\n",
              "5     45\n",
              "6     45\n",
              "7    454\n",
              "dtype: int64"
            ]
          },
          "metadata": {},
          "execution_count": 43
        }
      ],
      "source": [
        "s5"
      ]
    },
    {
      "cell_type": "code",
      "execution_count": 44,
      "id": "63f16068-d76e-4407-bc8d-8d7749b4370e",
      "metadata": {
        "id": "63f16068-d76e-4407-bc8d-8d7749b4370e",
        "outputId": "852e9be5-af48-4ed9-8775-d7ea64859f75",
        "colab": {
          "base_uri": "https://localhost:8080/"
        }
      },
      "outputs": [
        {
          "output_type": "execute_result",
          "data": {
            "text/plain": [
              "1       NaN\n",
              "2       NaN\n",
              "4    1380.0\n",
              "5     225.0\n",
              "6     270.0\n",
              "7       NaN\n",
              "9       NaN\n",
              "dtype: float64"
            ]
          },
          "metadata": {},
          "execution_count": 44
        }
      ],
      "source": [
        "s4*s5"
      ]
    },
    {
      "cell_type": "code",
      "execution_count": 45,
      "id": "ee9647e5-ee6f-4ec8-a8ea-06b53c7ddfee",
      "metadata": {
        "id": "ee9647e5-ee6f-4ec8-a8ea-06b53c7ddfee",
        "outputId": "60f0c630-38d6-4d88-cd9d-66f3e0f82e01",
        "colab": {
          "base_uri": "https://localhost:8080/"
        }
      },
      "outputs": [
        {
          "output_type": "execute_result",
          "data": {
            "text/plain": [
              "1      NaN\n",
              "2      NaN\n",
              "4    349.0\n",
              "5     50.0\n",
              "6     51.0\n",
              "7      NaN\n",
              "9      NaN\n",
              "dtype: float64"
            ]
          },
          "metadata": {},
          "execution_count": 45
        }
      ],
      "source": [
        "s4+s5"
      ]
    },
    {
      "cell_type": "code",
      "execution_count": null,
      "id": "8e92b019-63eb-4be8-b5d8-cf23fe2eb177",
      "metadata": {
        "id": "8e92b019-63eb-4be8-b5d8-cf23fe2eb177"
      },
      "outputs": [],
      "source": []
    }
  ],
  "metadata": {
    "kernelspec": {
      "display_name": "Python 3 (ipykernel)",
      "language": "python",
      "name": "python3"
    },
    "language_info": {
      "codemirror_mode": {
        "name": "ipython",
        "version": 3
      },
      "file_extension": ".py",
      "mimetype": "text/x-python",
      "name": "python",
      "nbconvert_exporter": "python",
      "pygments_lexer": "ipython3",
      "version": "3.10.8"
    },
    "colab": {
      "provenance": []
    }
  },
  "nbformat": 4,
  "nbformat_minor": 5
}